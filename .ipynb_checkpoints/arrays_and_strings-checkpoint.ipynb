{
 "cells": [
  {
   "cell_type": "markdown",
   "metadata": {},
   "source": [
    "$$\\huge \\text{Cracking the Coding Interview : Solutions}$$\n",
    "\n",
    "$$\\Large \\text{Chapter One : Strings and Arrays}$$"
   ]
  },
  {
   "cell_type": "markdown",
   "metadata": {},
   "source": [
    "- **1.1 : Is Unique**\n",
    "    - Implement an algorithm to determine if a string has all unique characters. What if you cannot use additional data structures?"
   ]
  },
  {
   "cell_type": "code",
   "execution_count": 225,
   "metadata": {},
   "outputs": [],
   "source": [
    "def is_unique(str):\n",
    "    for i in range(0, len(str)):\n",
    "        for j in range(1, len(str)):\n",
    "            if(i == j):\n",
    "                continue\n",
    "            elif(str[i] == str[j]):\n",
    "                print(str, \"is not a unique word.\")\n",
    "                print(\"Repeated:\", str[i])\n",
    "                return\n",
    "    print(str, \"is a unique word.\\n\")\n",
    "    return"
   ]
  },
  {
   "cell_type": "code",
   "execution_count": 226,
   "metadata": {},
   "outputs": [
    {
     "name": "stdout",
     "output_type": "stream",
     "text": [
      "computer is a unique word.\n",
      "\n",
      "monitor is not a unique word.\n",
      "Repeated: o\n"
     ]
    }
   ],
   "source": [
    "is_unique(\"computer\")\n",
    "is_unique(\"monitor\")"
   ]
  },
  {
   "cell_type": "markdown",
   "metadata": {},
   "source": [
    "- **1.2: Check Permutation**\n",
    "    - Given two strings, write a method to decide if one is a permutation of the other."
   ]
  },
  {
   "cell_type": "code",
   "execution_count": 227,
   "metadata": {},
   "outputs": [],
   "source": [
    "def check_permutation(Str1, Str2):\n",
    "    str1 = ''.join(sorted(Str1))\n",
    "    str2 = ''.join(sorted(Str2))\n",
    "    #print(str1, str2)\n",
    "    if(len(str1) != len(str2)):\n",
    "        print(Str1, \"is not a permutation of\", Str2)\n",
    "        return\n",
    "    else:\n",
    "        for i in range(0, len(str1)):\n",
    "            if(str1[i] != str2[i]):\n",
    "                print(Str1, \"is not a permutation of\", Str2)\n",
    "                return\n",
    "        print(Str1, \"is a permutation of\", Str2)\n",
    "        return"
   ]
  },
  {
   "cell_type": "code",
   "execution_count": 228,
   "metadata": {},
   "outputs": [
    {
     "name": "stdout",
     "output_type": "stream",
     "text": [
      "hello is a permutation of ohell\n",
      "computer is not a permutation of monitor\n"
     ]
    }
   ],
   "source": [
    "check_permutation(\"hello\", \"ohell\")\n",
    "check_permutation(\"computer\", \"monitor\")"
   ]
  },
  {
   "cell_type": "markdown",
   "metadata": {},
   "source": [
    "**1.3: URLify**\n",
    "\n",
    "        - Write a method to replace all spaces in a string with '%20'. You may assume that the string has sufficient space at the end to hold the additional characters, and that you are given the 'true' length of the string. (Note: if implementing in java, please use a character array so that you can perform this operation in place.)\n",
    "        - EX: \n",
    "            - Input: \"Mr John Smith   \", 13\n",
    "            - Output: \"Mr%20John%20Smith\""
   ]
  },
  {
   "cell_type": "code",
   "execution_count": 229,
   "metadata": {},
   "outputs": [],
   "source": [
    "def URLify(str):\n",
    "    new_str = \"\"\n",
    "    space_flag = False\n",
    "    for i in range(0, len(str)):\n",
    "        if(str[i] == ' '):\n",
    "            space_flag = True\n",
    "        else:\n",
    "            if(space_flag == True):\n",
    "                new_str = new_str + '%20'\n",
    "                space_flag = False\n",
    "            new_str = new_str + str[i]\n",
    "    return new_str"
   ]
  },
  {
   "cell_type": "code",
   "execution_count": 230,
   "metadata": {},
   "outputs": [
    {
     "data": {
      "text/plain": [
       "'Mr%20John%20Smith'"
      ]
     },
     "execution_count": 230,
     "metadata": {},
     "output_type": "execute_result"
    }
   ],
   "source": [
    "URLify(\"Mr John Smith   \")"
   ]
  },
  {
   "cell_type": "markdown",
   "metadata": {},
   "source": [
    "**1.4 : Palindrome Permutation**\n",
    "    \n",
    "    - Given a string, write a function to check if it is a permutation of a palindrome. A palindrome is a word or phrase that is the same forwards and backwards. A permutation is a rearrangement of letters. A palindrome does not need to be limited to just dictionary words. You can ignore casing and non-letter characters. \n",
    "        - EX:\n",
    "            - Input: Tact Coa\n",
    "            - Output: True (Permutations: \"taco cat\", \"atco cta\", etc.)"
   ]
  },
  {
   "cell_type": "code",
   "execution_count": 231,
   "metadata": {},
   "outputs": [],
   "source": [
    "def check_pp(str):\n",
    "    ss = ''.join(sorted(str))\n",
    "    new_str = ''\n",
    "    count = [0] * 126\n",
    "\n",
    "    for i in range(0, len(ss)):\n",
    "        if(ss[i] == ' '):\n",
    "            continue\n",
    "        elif(ss[i] != ' ' ):\n",
    "            new_str = new_str + ss[i]\n",
    "\n",
    "    print(new_str)\n",
    "    \n",
    "    pivot = 0\n",
    "    for j in range(0, len(new_str)):\n",
    "        x = ord(new_str[j])\n",
    "        count[x] = count[x] + 1\n",
    "    \n",
    "    for k in range(0, len(count)):\n",
    "        if(count[k] == 0):\n",
    "            continue\n",
    "        else:\n",
    "            print(k, count[k])\n",
    "            if(count[k] == 1) and (len(new_str)%2 == 1):\n",
    "                if(pivot >= 1):\n",
    "                    print(\"Not a permutation of a palindrome.\")\n",
    "                    return\n",
    "                else:\n",
    "                    pivot = pivot + 1\n",
    "            elif(count[k] == 1) and (len(new_str)%2 == 0):\n",
    "                prireturnnt(\"Not a permutation of a palindrome.\")\n",
    "                return\n",
    "            elif(pivot > 1):\n",
    "                print(\"k > 2\") #(For testing purposes)\n",
    "                return\n",
    "    print(str, \"is a permutation of a palindrome\")\n",
    "    return"
   ]
  },
  {
   "cell_type": "code",
   "execution_count": 232,
   "metadata": {},
   "outputs": [
    {
     "name": "stdout",
     "output_type": "stream",
     "text": [
      "aaccott\n",
      "97 2\n",
      "99 2\n",
      "111 1\n",
      "116 2\n",
      "tact coa is a permutation of a palindrome\n"
     ]
    }
   ],
   "source": [
    "check_pp(\"tact coa\")"
   ]
  },
  {
   "cell_type": "code",
   "execution_count": 233,
   "metadata": {},
   "outputs": [
    {
     "name": "stdout",
     "output_type": "stream",
     "text": [
      "aaccerr\n",
      "97 2\n",
      "99 2\n",
      "101 1\n",
      "114 2\n",
      "race   car is a permutation of a palindrome\n"
     ]
    }
   ],
   "source": [
    "check_pp(\"race   car\")"
   ]
  },
  {
   "cell_type": "code",
   "execution_count": 234,
   "metadata": {},
   "outputs": [
    {
     "name": "stdout",
     "output_type": "stream",
     "text": [
      "ehllo\n",
      "101 1\n",
      "104 1\n",
      "Not a permutation of a palindrome.\n"
     ]
    }
   ],
   "source": [
    "check_pp(\"hello\")"
   ]
  },
  {
   "cell_type": "markdown",
   "metadata": {},
   "source": [
    "**1.5 : One Away**\n",
    "    \n",
    "    There are three types of edits that can be performed on strings: insert a character, remove a character, or replace a character. Given two strings, write a function to check if they are one edit (or zero edits) away.\n",
    "        EX:\n",
    "            pale, ple -> true\n",
    "            pales, pale -> true\n",
    "            pale, bale -> true\n",
    "            pale, bake -> false"
   ]
  },
  {
   "cell_type": "code",
   "execution_count": 235,
   "metadata": {},
   "outputs": [],
   "source": [
    "def one_away(str1, str2):\n",
    "    # Use hash mapping to count indeces\n",
    "    count = [0] * 126\n",
    "    singles = 0\n",
    "    for i in range(0, len(str1)):\n",
    "        x = ord(str1[i])\n",
    "        count[x] = count[x] + 1\n",
    "    for j in range(0, len(str2)):\n",
    "        x = ord(str2[j])\n",
    "        count[x] = count[x] + 1\n",
    "    for k in range(0, len(count)):\n",
    "        if(count[k] == 1):\n",
    "            print(k)\n",
    "            singles = singles + 1\n",
    "    if(singles > 2):\n",
    "        print(\"Two words are more than one edit away.\")\n",
    "        return\n",
    "    else:\n",
    "        print(\"Two words are within one edit away.\")\n",
    "        return\n",
    "            "
   ]
  },
  {
   "cell_type": "code",
   "execution_count": 236,
   "metadata": {},
   "outputs": [
    {
     "name": "stdout",
     "output_type": "stream",
     "text": [
      "97\n",
      "Two words are within one edit away.\n",
      "115\n",
      "Two words are within one edit away.\n",
      "98\n",
      "112\n",
      "Two words are within one edit away.\n",
      "98\n",
      "107\n",
      "108\n",
      "112\n",
      "Two words are more than one edit away.\n"
     ]
    }
   ],
   "source": [
    "one_away(\"pale\", \"ple\")\n",
    "one_away(\"pales\", \"pale\")\n",
    "one_away(\"pale\", \"bale\")\n",
    "one_away(\"pale\", \"bake\")"
   ]
  },
  {
   "cell_type": "markdown",
   "metadata": {},
   "source": [
    "**1.6 : String Compression**\n",
    "\n",
    "    Implement a method to perform basic string compression using the counts of repeated characters. For example, the string aabcccccaaa. If the \"compressed\" string would not become smaller than the original string, your method should return the original string. You can assume the string has only uppercase and lowercase letters."
   ]
  },
  {
   "cell_type": "code",
   "execution_count": 241,
   "metadata": {},
   "outputs": [],
   "source": [
    "def string_compression(str1):\n",
    "    o_len = len(str1)\n",
    "    count = 1\n",
    "    new_str = \"\"\n",
    "    for i in range(0, o_len-1):\n",
    "        if(str1[i] == str1[i+1]):\n",
    "            count = count + 1\n",
    "            char = str1[i]\n",
    "        else:\n",
    "            new_str = new_str + str1[i] + str(count)\n",
    "            count = 1\n",
    "    new_str = new_str + char + str(count)\n",
    "    if(o_len < len(new_str)):\n",
    "        return str1\n",
    "    else:\n",
    "        return new_str"
   ]
  },
  {
   "cell_type": "code",
   "execution_count": 242,
   "metadata": {},
   "outputs": [
    {
     "data": {
      "text/plain": [
       "'a2b1c5a3'"
      ]
     },
     "execution_count": 242,
     "metadata": {},
     "output_type": "execute_result"
    }
   ],
   "source": [
    "string_compression(\"aabcccccaaa\")"
   ]
  },
  {
   "cell_type": "markdown",
   "metadata": {},
   "source": [
    "**1.7: Matrix Rotation**\n",
    "\n",
    "        Given an image represented by an N x N matrix, where each pixel is represented by an integer, write a method to rotate the image by 90 degrees. Can you do this in place?"
   ]
  },
  {
   "cell_type": "code",
   "execution_count": 243,
   "metadata": {},
   "outputs": [],
   "source": [
    "def rotate_matrix(mat, N):\n",
    "    for x in range(0, int(N/2)):\n",
    "        for y in range(x, N-x-1):\n",
    "            temp = mat[x][y]\n",
    "            mat[x][y] = mat[y][N-1-x]\n",
    "            mat[y][N-1-x] = mat[N-1-x][N-1-y]\n",
    "            mat[N-1-x][N-1-y] = mat[N-1-y][x]\n",
    "            mat[N-1-y][x] = temp\n",
    "            \n",
    "# Function to pr the matrix \n",
    "def displayMatrix( mat , N): \n",
    "      \n",
    "    for i in range(0, N): \n",
    "          \n",
    "        for j in range(0, N): \n",
    "              \n",
    "            print (mat[i][j], end = ' ') \n",
    "        print (\"\") "
   ]
  },
  {
   "cell_type": "code",
   "execution_count": 244,
   "metadata": {},
   "outputs": [
    {
     "name": "stdout",
     "output_type": "stream",
     "text": [
      "4 8 12 16 \n",
      "3 7 11 15 \n",
      "2 6 10 14 \n",
      "1 5 9 13 \n"
     ]
    }
   ],
   "source": [
    "mat = [ [1, 2, 3, 4 ], \n",
    "        [5, 6, 7, 8 ], \n",
    "        [9, 10, 11, 12 ], \n",
    "        [13, 14, 15, 16 ] ] \n",
    "rotate_matrix(mat, 4)\n",
    "displayMatrix(mat, 4)"
   ]
  },
  {
   "cell_type": "markdown",
   "metadata": {},
   "source": [
    "**1.8 : Zero Matrix**\n",
    "\n",
    "    Write an algorithm such that if an element in an M x N matrix is 0, its entire row an column are set to zero."
   ]
  },
  {
   "cell_type": "code",
   "execution_count": 245,
   "metadata": {},
   "outputs": [],
   "source": [
    "def zero_matrix(mat, R, C):\n",
    "    row = [0] * R\n",
    "    col = [0] * C\n",
    "    \n",
    "    # Use booleans to flag our indeces to False by default\n",
    "    for i in range(0, R):\n",
    "        row[i] = False\n",
    "        \n",
    "    for i in range(0, C):\n",
    "        col[i] = False\n",
    "\n",
    "    # Mark each row/col True, if they contain a zero\n",
    "    for i in range(0, R):\n",
    "        for j in range(0, C):\n",
    "            if(matrix[i][j] == 0):\n",
    "                row[i] = True\n",
    "                col[j] = True\n",
    "\n",
    "    # Find rows that contain a zero\n",
    "    for i in range(0, R):\n",
    "        if(row[i]):\n",
    "            for j in range(0, C):\n",
    "                mat[i][j] = 0\n",
    "    # Find columns that contain a zero\n",
    "    for j in range(0, C):\n",
    "        if(col[j]):\n",
    "            for i in range(0, R):\n",
    "                mat[i][j] = 0\n",
    "    return mat"
   ]
  },
  {
   "cell_type": "code",
   "execution_count": 246,
   "metadata": {},
   "outputs": [
    {
     "name": "stdout",
     "output_type": "stream",
     "text": [
      "Input Matrix n\n",
      "0 1 1 0 \n",
      "1 1 0 1 \n",
      "1 1 1 1 \n",
      "Matrix after modification n\n",
      "0 0 0 0 \n",
      "0 0 0 0 \n",
      "0 1 0 0 \n"
     ]
    }
   ],
   "source": [
    "matrix = [ [0, 1, 1, 0], \n",
    "        [1, 1, 0, 1], \n",
    "        [1, 1, 1, 1] ]\n",
    "\n",
    "# A utility function to print a 2D matrix  \n",
    "def printMatrix(mat, R, C) : \n",
    "    for i in range(0, R): \n",
    "          \n",
    "        for j in range(0, C) : \n",
    "            print(mat[i][j], end = \" \") \n",
    "        print()\n",
    "        \n",
    "print(\"Input Matrix n\") \n",
    "printMatrix(matrix, 3, 4) \n",
    "  \n",
    "mat2 = zero_matrix(matrix, 3, 4) \n",
    "\n",
    "print(\"Matrix after modification n\") \n",
    "printMatrix(mat2, 3, 4) "
   ]
  },
  {
   "cell_type": "markdown",
   "metadata": {},
   "source": [
    "$$\\Large \\text{Chapter Two : Linked Lists}$$"
   ]
  },
  {
   "cell_type": "code",
   "execution_count": 434,
   "metadata": {},
   "outputs": [],
   "source": [
    "# The Node structure for our Linked Lists\n",
    "class Node(object):\n",
    "    \n",
    "    # Constructor\n",
    "    def __init__(self, data=None, next_node=None):\n",
    "        self.data = data\n",
    "        self.next_node = next_node\n",
    "        \n",
    "    def get_data(self):\n",
    "        return self.data\n",
    "    \n",
    "    def get_next(self):\n",
    "        return self.next_node\n",
    "    \n",
    "    def set_next(self, new_next):\n",
    "        self.next_node = new_next\n"
   ]
  },
  {
   "cell_type": "code",
   "execution_count": 427,
   "metadata": {},
   "outputs": [],
   "source": [
    "class LinkedList(object):\n",
    "    \n",
    "    def __init__(self, head=None):\n",
    "        self.head = head\n",
    "    \n",
    "    # O(1) Insertion time on a linked list\n",
    "    def insert(self, data):\n",
    "        current = self.head\n",
    "        \n",
    "        if(current == None):\n",
    "            head = Node(data)\n",
    "        else:\n",
    "            while(current.get_next() != None):\n",
    "                current = current.get_next()\n",
    "            current.set_next(Node(data))\n",
    "        \n",
    "    def size(self):\n",
    "        current = self.head\n",
    "        count = 0\n",
    "        while current:\n",
    "            count = count + 1\n",
    "            current = current.get_next()\n",
    "        return count\n",
    "    \n",
    "    def serach(self, data):\n",
    "        current = self.head\n",
    "        found = False\n",
    "        while current and found is False:\n",
    "            if current.get_data() == data:\n",
    "                found = True\n",
    "            else:\n",
    "                current = current.get_next()\n",
    "        if current is None:\n",
    "            raise ValueError(\"Data not in list.\")\n",
    "        return current\n",
    "    \n",
    "    def delete(self, data):\n",
    "        current = self.head\n",
    "        previous = None\n",
    "        found = False\n",
    "        while current and found is False:\n",
    "            if current.get_data() == data:\n",
    "                found = True\n",
    "            else:\n",
    "                previous = current\n",
    "                current = current.get_next()\n",
    "        if current is None:\n",
    "            raise ValueError(\"Data not in list\")\n",
    "        if previous is None:\n",
    "            self.head = current.get_next()\n",
    "        else:\n",
    "            previous.set_next(current.get_next())\n",
    "            \n",
    "    def traverse(self):\n",
    "        current = self.head\n",
    "        list = \"\"\n",
    "        while current:\n",
    "            list = list + str(current.get_data()) + \"->\"\n",
    "            current = current.get_next()\n",
    "        list = list[:-2]\n",
    "        print(list)\n",
    "        \n",
    "    def partition(self, data):\n",
    "        current = self.head\n",
    "        while current:\n",
    "            if(current.get_data() >= data.get_data()):\n",
    "                tmpVal = current\n",
    "                self.delete(tmpVal.get_data())\n",
    "                self.insert(current)\n",
    "            current = current.get_next()\n",
    "        self.traverse()"
   ]
  },
  {
   "cell_type": "markdown",
   "metadata": {},
   "source": [
    "**2.1: Remove Dups**\n",
    "\n",
    "    - Write code to remove duplicates from an unsorted singly-linked list."
   ]
  },
  {
   "cell_type": "code",
   "execution_count": 428,
   "metadata": {},
   "outputs": [],
   "source": [
    "def remove_dups(LL):\n",
    "    chain = \"\"\n",
    "    repeatNodes = []\n",
    "    tmp = LL.head\n",
    "    \n",
    "    while tmp:\n",
    "        chain += str(tmp.get_data())\n",
    "        tmp = tmp.get_next()\n",
    "    \n",
    "    sortedChain = sorted(chain)\n",
    "\n",
    "    i = 0\n",
    "    while(i <= len(sortedChain)-1):\n",
    "        if sortedChain[i] == sortedChain[i-1]:\n",
    "            repeatNodes.append(sortedChain[i])\n",
    "        i += 1\n",
    "    print(\"Repeated Nodes:\", repeatNodes)\n",
    "    \n",
    "    tmp2 = LL.head\n",
    "    idx = len(repeatNodes) - 1\n",
    "    while idx >= 0:\n",
    "        if tmp2.get_data() == int(repeatNodes[idx]):\n",
    "            prev = tmp2.get_data()\n",
    "            tmp2 = tmp2.get_next()\n",
    "            LL.delete(prev)\n",
    "            print(\"deleted:\", prev)\n",
    "            idx -= 1\n",
    "        else:\n",
    "            tmp2 = tmp2.get_next()\n",
    "    #LL.traverse()\n",
    "    return LL"
   ]
  },
  {
   "cell_type": "code",
   "execution_count": 429,
   "metadata": {},
   "outputs": [
    {
     "name": "stdout",
     "output_type": "stream",
     "text": [
      "Original List with duplicates: \n",
      "4->2->0->6->0->9->2->0\n",
      "\n",
      "Repeated Nodes: ['0', '0', '2']\n",
      "deleted: 2\n",
      "deleted: 0\n",
      "deleted: 0\n",
      "\n",
      "List after removing duplicates: \n",
      "4->6->9->2->0\n"
     ]
    }
   ],
   "source": [
    "head = Node(4)\n",
    "LL = LinkedList(head)\n",
    "LL.insert(2)\n",
    "LL.insert(0)\n",
    "LL.insert(6)\n",
    "LL.insert(0)\n",
    "LL.insert(9)\n",
    "LL.insert(2)\n",
    "LL.insert(0)\n",
    "\n",
    "print(\"Original List with duplicates: \")\n",
    "LL.traverse()\n",
    "print()\n",
    "uniqueLL = remove_dups(LL)\n",
    "print(\"\\nList after removing duplicates: \")\n",
    "uniqueLL.traverse()"
   ]
  },
  {
   "cell_type": "markdown",
   "metadata": {},
   "source": [
    "**2.2: Return Kth to Last**\n",
    "    \n",
    "    - Implement a function to find the kth to last element of a singly-linked list."
   ]
  },
  {
   "cell_type": "code",
   "execution_count": 430,
   "metadata": {},
   "outputs": [],
   "source": [
    "def k_to_last(LL, k):\n",
    "    k = LL.size()-k\n",
    "    idx = 0\n",
    "    tmp = LL.head\n",
    "    while tmp:\n",
    "        if idx == k:\n",
    "            return tmp.get_data()\n",
    "        tmp = tmp.get_next()\n",
    "        idx += 1\n",
    "    return -1"
   ]
  },
  {
   "cell_type": "code",
   "execution_count": 431,
   "metadata": {},
   "outputs": [
    {
     "name": "stdout",
     "output_type": "stream",
     "text": [
      "7->1->0->4->2->0->6->9\n",
      "Second to last element in the list: 6\n",
      "Fourth to last element in the list: 2\n"
     ]
    }
   ],
   "source": [
    "kHead = Node(7)\n",
    "kList = LinkedList(kHead)\n",
    "kList.insert(1)\n",
    "kList.insert(0)\n",
    "kList.insert(4)\n",
    "kList.insert(2)\n",
    "kList.insert(0)\n",
    "kList.insert(6)\n",
    "kList.insert(9)\n",
    "kList.traverse()\n",
    "\n",
    "second_to_last = k_to_last(kList, 2)\n",
    "print(\"Second to last element in the list:\", second_to_last)\n",
    "fourth_to_last = k_to_last(kList, 4)\n",
    "print(\"Fourth to last element in the list:\", fourth_to_last)"
   ]
  },
  {
   "cell_type": "markdown",
   "metadata": {},
   "source": [
    "**2.3: Delete Middle Node**\n",
    "    \n",
    "        - Implement an algorithm to delete a node in the middle (i.e., any node but the first and last node , not necessarily the exact middle of a singly-linked list) , given only access to that node.\n",
    "        \n",
    "        EX:\n",
    "            - Input: The node c from the linked list: a->b->c->d->e->f\n",
    "            - Output: nothing is returned, but the new linked-list looks like: a->b->d->e->f"
   ]
  },
  {
   "cell_type": "code",
   "execution_count": 432,
   "metadata": {},
   "outputs": [
    {
     "name": "stdout",
     "output_type": "stream",
     "text": [
      "Using the list from the previous example: \n",
      "7->1->0->4->2->0->6->9\n",
      "New list after deletion\n",
      "7->1->0->2->0->6->9\n"
     ]
    }
   ],
   "source": [
    "# See LinkedList class definition for delete function\n",
    "print(\"Using the list from the previous example: \")\n",
    "kList.traverse()\n",
    "kList.delete(4)\n",
    "print(\"New list after deletion\")\n",
    "kList.traverse()"
   ]
  },
  {
   "cell_type": "markdown",
   "metadata": {},
   "source": [
    "**2.4: Partition:**\n",
    "\n",
    "    - Write code to partition a linked list around a value x, such that all nodes less than x come before nodes that are greater than or equal to x. (IMPORTANT: The partition element x can appear anywhere in the \"right-partition\"; it does not need to appear between the left and right partitions. The additional spacing in the example below indicates the partition.\n",
    "    \n",
    "    EX:\n",
    "        - Input: 3->8->5->10->2->1    [partition = 5]\n",
    "        - Output: 3->1->2  ->  10->5->5->8"
   ]
  },
  {
   "cell_type": "code",
   "execution_count": 435,
   "metadata": {
    "collapsed": true,
    "jupyter": {
     "outputs_hidden": true
    }
   },
   "outputs": [
    {
     "name": "stdout",
     "output_type": "stream",
     "text": [
      "2->6->7->8->8->4->6->8->3->5\n",
      "\n"
     ]
    },
    {
     "ename": "TypeError",
     "evalue": "'>=' not supported between instances of 'Node' and 'int'",
     "output_type": "error",
     "traceback": [
      "\u001b[0;31m---------------------------------------------------------------------------\u001b[0m",
      "\u001b[0;31mTypeError\u001b[0m                                 Traceback (most recent call last)",
      "\u001b[0;32m<ipython-input-435-f120823d2a35>\u001b[0m in \u001b[0;36m<module>\u001b[0;34m\u001b[0m\n\u001b[1;32m     13\u001b[0m \u001b[0mpartitionList\u001b[0m\u001b[0;34m.\u001b[0m\u001b[0mtraverse\u001b[0m\u001b[0;34m(\u001b[0m\u001b[0;34m)\u001b[0m\u001b[0;34m\u001b[0m\u001b[0;34m\u001b[0m\u001b[0m\n\u001b[1;32m     14\u001b[0m \u001b[0mprint\u001b[0m\u001b[0;34m(\u001b[0m\u001b[0;34m)\u001b[0m\u001b[0;34m\u001b[0m\u001b[0;34m\u001b[0m\u001b[0m\n\u001b[0;32m---> 15\u001b[0;31m \u001b[0mpartitionList\u001b[0m\u001b[0;34m.\u001b[0m\u001b[0mpartition\u001b[0m\u001b[0;34m(\u001b[0m\u001b[0mNode\u001b[0m\u001b[0;34m(\u001b[0m\u001b[0;36m4\u001b[0m\u001b[0;34m)\u001b[0m\u001b[0;34m)\u001b[0m\u001b[0;34m\u001b[0m\u001b[0;34m\u001b[0m\u001b[0m\n\u001b[0m",
      "\u001b[0;32m<ipython-input-427-ebd80b7d410a>\u001b[0m in \u001b[0;36mpartition\u001b[0;34m(self, data)\u001b[0m\n\u001b[1;32m     64\u001b[0m         \u001b[0mcurrent\u001b[0m \u001b[0;34m=\u001b[0m \u001b[0mself\u001b[0m\u001b[0;34m.\u001b[0m\u001b[0mhead\u001b[0m\u001b[0;34m\u001b[0m\u001b[0;34m\u001b[0m\u001b[0m\n\u001b[1;32m     65\u001b[0m         \u001b[0;32mwhile\u001b[0m \u001b[0mcurrent\u001b[0m\u001b[0;34m:\u001b[0m\u001b[0;34m\u001b[0m\u001b[0;34m\u001b[0m\u001b[0m\n\u001b[0;32m---> 66\u001b[0;31m             \u001b[0;32mif\u001b[0m\u001b[0;34m(\u001b[0m\u001b[0mcurrent\u001b[0m\u001b[0;34m.\u001b[0m\u001b[0mget_data\u001b[0m\u001b[0;34m(\u001b[0m\u001b[0;34m)\u001b[0m \u001b[0;34m>=\u001b[0m \u001b[0mdata\u001b[0m\u001b[0;34m.\u001b[0m\u001b[0mget_data\u001b[0m\u001b[0;34m(\u001b[0m\u001b[0;34m)\u001b[0m\u001b[0;34m)\u001b[0m\u001b[0;34m:\u001b[0m\u001b[0;34m\u001b[0m\u001b[0;34m\u001b[0m\u001b[0m\n\u001b[0m\u001b[1;32m     67\u001b[0m                 \u001b[0mtmpVal\u001b[0m \u001b[0;34m=\u001b[0m \u001b[0mcurrent\u001b[0m\u001b[0;34m\u001b[0m\u001b[0;34m\u001b[0m\u001b[0m\n\u001b[1;32m     68\u001b[0m                 \u001b[0mself\u001b[0m\u001b[0;34m.\u001b[0m\u001b[0mdelete\u001b[0m\u001b[0;34m(\u001b[0m\u001b[0mtmpVal\u001b[0m\u001b[0;34m.\u001b[0m\u001b[0mget_data\u001b[0m\u001b[0;34m(\u001b[0m\u001b[0;34m)\u001b[0m\u001b[0;34m)\u001b[0m\u001b[0;34m\u001b[0m\u001b[0;34m\u001b[0m\u001b[0m\n",
      "\u001b[0;31mTypeError\u001b[0m: '>=' not supported between instances of 'Node' and 'int'"
     ]
    }
   ],
   "source": [
    "partitionHead = Node(2)\n",
    "partitionList = LinkedList(partitionHead)\n",
    "\n",
    "partitionList.insert(6)\n",
    "partitionList.insert(7)\n",
    "partitionList.insert(8)\n",
    "partitionList.insert(8)\n",
    "partitionList.insert(4)\n",
    "partitionList.insert(6)\n",
    "partitionList.insert(8)\n",
    "partitionList.insert(3)\n",
    "partitionList.insert(5)\n",
    "partitionList.traverse()\n",
    "print()\n",
    "partitionList.partition(Node(4))"
   ]
  },
  {
   "cell_type": "code",
   "execution_count": null,
   "metadata": {},
   "outputs": [],
   "source": []
  },
  {
   "cell_type": "code",
   "execution_count": null,
   "metadata": {},
   "outputs": [],
   "source": []
  }
 ],
 "metadata": {
  "kernelspec": {
   "display_name": "Python 3",
   "language": "python",
   "name": "python3"
  },
  "language_info": {
   "codemirror_mode": {
    "name": "ipython",
    "version": 3
   },
   "file_extension": ".py",
   "mimetype": "text/x-python",
   "name": "python",
   "nbconvert_exporter": "python",
   "pygments_lexer": "ipython3",
   "version": "3.7.3"
  }
 },
 "nbformat": 4,
 "nbformat_minor": 4
}
