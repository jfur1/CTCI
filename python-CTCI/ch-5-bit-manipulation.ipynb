{
 "cells": [
  {
   "cell_type": "markdown",
   "metadata": {},
   "source": [
    "# Bit Manipulation\n",
    "\n",
    "## 5.1: Insertion\n",
    "You are given two 32-bit numbers, N and M, such that M starts at bit j and ends at bit i. You can assume that the bits j through i have enough space to fit all of M. That is, if M = 10011, you can assume that there are at least 5 bits between j and i. You would not, for example, have j = 3 and i = 2, because M could not fully fit between bit 3 and bit 2. \n",
    "\n",
    "Ex:\n",
    "\n",
    "    Input:\n",
    "        N = 10000000000, M = 10011, i =2, j = 6\n",
    "    \n",
    "    Output: \n",
    "        N = 10001001100\n"
   ]
  },
  {
   "cell_type": "code",
   "execution_count": 1,
   "metadata": {},
   "outputs": [
    {
     "name": "stdout",
     "output_type": "stream",
     "text": [
      "N = 1201(0b10010110001)\n",
      "M = 8(0b1000)\n",
      "***After inserting M into N***\n",
      "N = 1217(0b10011000001)\n"
     ]
    }
   ],
   "source": [
    "def insertion(n, m, i, j):\n",
    "  \n",
    "    clear_mask = -1 << (j + 1)\n",
    "    capture_mask = (1 << i) - 1\n",
    "  \n",
    "    # Capturing bits from i-1 to 0\n",
    "    captured_bits = n & capture_mask \n",
    "  \n",
    "    # Clearing bits from j to 0\n",
    "    n &= clear_mask\n",
    "  \n",
    "    # Shiftng m to align with n\n",
    "    m = m << i\n",
    "  \n",
    "    # Insert m into n\n",
    "    n |= m \n",
    "  \n",
    "    # Insert captured bits\n",
    "    n |= captured_bits\n",
    "  \n",
    "    return n\n",
    "\n",
    "N = 1201; M = 8; i = 3; j = 6\n",
    "print(\"N = {}({})\".format(N, bin(N)))\n",
    "print(\"M = {}({})\".format(M, bin(M)))\n",
    "N = insertion(N, M, i, j)\n",
    "print(\"***After inserting M into N***\")\n",
    "print(\"N = {}({})\".format(N, bin(N)))"
   ]
  },
  {
   "cell_type": "markdown",
   "metadata": {},
   "source": [
    "## 5.2: Binary to string\n",
    "Given a real number between 0 and 1 (e.g., 0.72) that is passed in as a double, print the binary representation. If the number cannot be represented accurately in binary with at most 32 characters, print \"ERROR\"."
   ]
  },
  {
   "cell_type": "code",
   "execution_count": 1,
   "metadata": {},
   "outputs": [
    {
     "name": "stdout",
     "output_type": "stream",
     "text": [
      "(0 .101 ) in base 2\n",
      "( ERROR )\n"
     ]
    }
   ],
   "source": [
    "def toBinary(n):\n",
    "  \n",
    "    # Check if the number is Between 0 to 1 or Not\n",
    "    if(n >= 1 or n <= 0):\n",
    "        return \"ERROR\"\n",
    "  \n",
    "    answer = \"\"\n",
    "    frac = 0.5\n",
    "    answer = answer + \".\"\n",
    "  \n",
    "    # Setting a limit on length: 32 characters.\n",
    "    while(n > 0):\n",
    "  \n",
    "        # Setting a limit on length: 32 characters\n",
    "        if(len(answer) >= 32):\n",
    "            return \"ERROR\"\n",
    "  \n",
    "        # Multiply n by 2 to check it 1 or 0\n",
    "        b = n * 2\n",
    "        if (b >= 1):\n",
    "  \n",
    "            answer = answer + \"1\"\n",
    "            n = b - 1\n",
    "  \n",
    "        else:\n",
    "            answer = answer + \"0\"\n",
    "            n = b\n",
    "  \n",
    "    return answer\n",
    "\n",
    "n = 0.625\n",
    "result = toBinary(n)\n",
    "print(\"(0\", result, \") in base 2\")\n",
    "m = 0.72\n",
    "result = toBinary(m)\n",
    "print(\"(\", result, \")\")"
   ]
  },
  {
   "cell_type": "markdown",
   "metadata": {},
   "source": [
    "## 5.3: Flip Bit to Win\n",
    "You have an integer and you can flip exactly one bit from a 0 to a 1. Write code to find the length of the longest sequence of 1s you could create."
   ]
  },
  {
   "cell_type": "code",
   "execution_count": 1,
   "metadata": {},
   "outputs": [
    {
     "name": "stdout",
     "output_type": "stream",
     "text": [
      "4\n",
      "8\n",
      "5\n"
     ]
    }
   ],
   "source": [
    "def flipBit(a):\n",
    "     \n",
    "    # If all bits are l,\n",
    "    # binary representation\n",
    "    # of 'a' has all 1s\n",
    "    if (~a == 0):\n",
    "        return 8 * sizeof();\n",
    " \n",
    "    currLen = 0;\n",
    "    prevLen = 0;\n",
    "    maxLen = 0;\n",
    "    while (a > 0):\n",
    "         \n",
    "        # If Current bit is a 1\n",
    "        # then increment currLen++\n",
    "        if ((a & 1) == 1):\n",
    "            currLen += 1;\n",
    " \n",
    "        # If Current bit is a 0\n",
    "        # then check next bit of a\n",
    "        elif ((a & 1) == 0):\n",
    "             \n",
    "            # Update prevLen to 0\n",
    "            # (if next bit is 0)\n",
    "            # or currLen (if next\n",
    "            # bit is 1). */\n",
    "            prevLen = 0 if((a & 2) == 0) else currLen;\n",
    " \n",
    "            # If two consecutively bits\n",
    "            # are 0 then currLen also\n",
    "            # will be 0.\n",
    "            currLen = 0;\n",
    " \n",
    "        # Update maxLen if required\n",
    "        maxLen = max(prevLen + currLen, maxLen);\n",
    " \n",
    "        # Remove last bit (Right shift)\n",
    "        a >>= 1;\n",
    " \n",
    "    # We can always have a sequence\n",
    "    # of at least one 1, this is\n",
    "    # fliped bit\n",
    "    return maxLen + 1;\n",
    " \n",
    "# Driver code\n",
    "# input 1\n",
    "print(flipBit(13));\n",
    " \n",
    "# input 2\n",
    "print(flipBit(1775));\n",
    " \n",
    "# input 3\n",
    "print(flipBit(15));"
   ]
  },
  {
   "cell_type": "markdown",
   "metadata": {},
   "source": [
    "## 5.4: Next Number\n",
    "Given a positive integer, print the next smallest and the next largest number that have the same number of 1 bits in their binary representation."
   ]
  },
  {
   "cell_type": "code",
   "execution_count": 1,
   "metadata": {},
   "outputs": [
    {
     "name": "stdout",
     "output_type": "stream",
     "text": [
      "5\n",
      "8\n"
     ]
    }
   ],
   "source": [
    "# Main Function to find next Bigger\n",
    "# number Smaller than n\n",
    "def getPrev(n):\n",
    "     \n",
    "    # Compute c0 and c1 and store N\n",
    "    temp = n\n",
    "    c0 = 0\n",
    "    c1 = 0\n",
    " \n",
    "    while ((temp & 1) == 1):\n",
    "        c1 += 1\n",
    "        temp = temp >> 1\n",
    "    if (temp == 0):\n",
    "        return -1\n",
    " \n",
    "    while (((temp & 1) == 0) and (temp != 0)):\n",
    "        c0 += 1\n",
    "        temp = temp >> 1\n",
    " \n",
    "    return n - (1 << c1) - (1 << (c0 - 1)) + 1\n",
    " \n",
    "# Driver Code\n",
    "if __name__ == '__main__':\n",
    "    n = 6 # input 1\n",
    "    print(getPrev(n))\n",
    " \n",
    "    n = 16     # input 2\n",
    "    print(getPrev(n))"
   ]
  },
  {
   "cell_type": "code",
   "execution_count": null,
   "metadata": {},
   "outputs": [],
   "source": []
  }
 ],
 "metadata": {
  "kernelspec": {
   "display_name": "Python 3",
   "language": "python",
   "name": "python3"
  },
  "language_info": {
   "codemirror_mode": {
    "name": "ipython",
    "version": 3
   },
   "file_extension": ".py",
   "mimetype": "text/x-python",
   "name": "python",
   "nbconvert_exporter": "python",
   "pygments_lexer": "ipython3",
   "version": "3.7.3"
  }
 },
 "nbformat": 4,
 "nbformat_minor": 2
}
