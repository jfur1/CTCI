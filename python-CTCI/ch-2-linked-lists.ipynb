{
 "cells": [
  {
   "cell_type": "markdown",
   "metadata": {},
   "source": [
    "# Chapter 2: Linked Lists"
   ]
  },
  {
   "cell_type": "code",
   "execution_count": 42,
   "metadata": {},
   "outputs": [],
   "source": [
    "# Create a Linked List\n",
    "class Node:\n",
    "    def __init__(self, data):\n",
    "        self.data = data\n",
    "        self.next = None\n",
    "        \n",
    "class LinkedList:\n",
    "    def __init__(self):\n",
    "        self.head = None\n",
    "        \n",
    "    def printList(self):\n",
    "        temp = self.head\n",
    "        while temp:\n",
    "            if(temp.next is None):\n",
    "                print(temp.data)\n",
    "            else:\n",
    "                print(temp.data, '-> ', end='')\n",
    "            temp = temp.next"
   ]
  },
  {
   "cell_type": "markdown",
   "metadata": {},
   "source": [
    "## 2.1: Remove Duplicates\n",
    "Write code to remove duplicates from an unsorted linked list.\n",
    "\n",
    "Follow Up: How would you solve this problem if a temporary buffer is not allowed?"
   ]
  },
  {
   "cell_type": "code",
   "execution_count": 45,
   "metadata": {},
   "outputs": [
    {
     "name": "stdout",
     "output_type": "stream",
     "text": [
      "Original List:\n",
      "1 -> 2 -> 3 -> 5 -> 3 -> 5 -> 4\n",
      "\n",
      "List with duplicates removed\n",
      "1 -> 2 -> 3 -> 5 -> 4\n"
     ]
    }
   ],
   "source": [
    "def remove_dups(llist):\n",
    "    print(\"Original List:\")\n",
    "    llist.printList()\n",
    "    \n",
    "    dups = {}\n",
    "    node = llist.head\n",
    "    dups[node.data] = 1\n",
    "    \n",
    "    while node.next:\n",
    "        \n",
    "        if node.next.data not in dups.keys():\n",
    "            dups[node.next.data] = 1\n",
    "        else:\n",
    "            if node.next.next != None:\n",
    "                node.next = node.next.next\n",
    "                continue\n",
    "            \n",
    "        \n",
    "        node = node.next\n",
    "    \n",
    "    print(\"\\nList with duplicates removed\")\n",
    "    llist.printList()\n",
    "    return\n",
    "\n",
    "# Create a LinkedList with duplicate value(s)\n",
    "llist = LinkedList()\n",
    "llist.head = Node(1)\n",
    "second = Node(2)\n",
    "third = Node(3)\n",
    "fourth = Node(5)\n",
    "fifth = Node(3)\n",
    "sixth = Node(5)\n",
    "seventh = Node(4)\n",
    "\n",
    "llist.head.next = second\n",
    "second.next = third\n",
    "third.next = fourth\n",
    "fourth.next = fifth\n",
    "fifth.next = sixth\n",
    "sixth.next = seventh\n",
    "\n",
    "remove_dups(llist)"
   ]
  },
  {
   "cell_type": "markdown",
   "metadata": {},
   "source": [
    "## 2.2: Return Kth to Last\n",
    "Implement an algorithm to find the Kth to last element of a singly linked list.\n",
    "\n",
    "### Brute Force Solution: Make an array copy of the linkedList\n",
    "> Time Complexity:\n",
    "- On Average: $O(N)$ where $N$ is the length of the linkedList\n",
    "\n",
    "> Space Complexity:\n",
    "- $O(N)$ where $N$ is the length of the array copy"
   ]
  },
  {
   "cell_type": "code",
   "execution_count": 50,
   "metadata": {},
   "outputs": [
    {
     "name": "stdout",
     "output_type": "stream",
     "text": [
      "Kth element in the list: 32\n"
     ]
    }
   ],
   "source": [
    "def k_to_n(llist, k_idx):\n",
    "    node = llist.head\n",
    "    count = 0\n",
    "    listArr = []\n",
    "    while node:\n",
    "        listArr.append(node.data)\n",
    "        count += 1\n",
    "        node = node.next\n",
    "        \n",
    "    print(\"Kth element in the list:\", listArr[len(listArr)-k_idx])\n",
    "    return\n",
    "\n",
    "# Create a LinkedList\n",
    "llist = LinkedList()\n",
    "llist.head = Node(11)\n",
    "second = Node(24)\n",
    "third = Node(32)\n",
    "fourth = Node(51)\n",
    "fifth = Node(32)\n",
    "sixth = Node(57)\n",
    "seventh = Node(40)\n",
    "\n",
    "llist.head.next = second\n",
    "second.next = third\n",
    "third.next = fourth\n",
    "fourth.next = fifth\n",
    "fifth.next = sixth\n",
    "sixth.next = seventh\n",
    "    \n",
    "k_to_n(llist, 3)"
   ]
  },
  {
   "cell_type": "markdown",
   "metadata": {},
   "source": [
    "## 2.3: Delete Middle Node\n",
    "Implement an algorithm to delete a node in the middle (i.e., any node but the first and last node, not necessarily the exact middle) of a singly linked list, given only access to that node.\n",
    "\n",
    "    EX: \n",
    "       Input: the node 'c' from the linked list: \n",
    "       a->b->c->d->e->f\n",
    "       Output: nothing returned, but the new linked list looks like:    a->b->d->e->f"
   ]
  },
  {
   "cell_type": "code",
   "execution_count": 59,
   "metadata": {},
   "outputs": [
    {
     "name": "stdout",
     "output_type": "stream",
     "text": [
      "Original List:\n",
      "11 -> 24 -> 32 -> 51 -> 32 -> 57 -> 40\n",
      "Deleting Node: 51\n",
      "Final List:\n",
      "11 -> 24 -> 32 -> 32 -> 57 -> 40\n"
     ]
    }
   ],
   "source": [
    "def deleteMiddle(node):\n",
    "    prev = Node(0)\n",
    "    \n",
    "    if(node == None): return\n",
    "    else:\n",
    "        while node.next:\n",
    "            node.data = node.next.data\n",
    "            prev = node\n",
    "            node = node.next\n",
    "        prev.next = None\n",
    "        \n",
    "llist = LinkedList()\n",
    "llist.head = Node(11)\n",
    "second = Node(24)\n",
    "third = Node(32)\n",
    "fourth = Node(51)\n",
    "fifth = Node(32)\n",
    "sixth = Node(57)\n",
    "seventh = Node(40)\n",
    "\n",
    "llist.head.next = second\n",
    "second.next = third\n",
    "third.next = fourth\n",
    "fourth.next = fifth\n",
    "fifth.next = sixth\n",
    "sixth.next = seventh\n",
    "\n",
    "print(\"Original List:\")\n",
    "llist.printList()\n",
    "print(\"Deleting Node:\", fourth.data) \n",
    "deleteMiddle(fourth)\n",
    "print(\"Final List:\")\n",
    "llist.printList()"
   ]
  },
  {
   "cell_type": "markdown",
   "metadata": {},
   "source": [
    "## 2.4: Partition: \n",
    "\n",
    "Write code to partition a linked list around a value x, such that all nodes less than x\n",
    "come before all nodes greater than or equal to x. (IMPORTANT: The partition element x can \n",
    "appear anywhere in the \"right partition\"; it does not need to appear between the left and\n",
    "right partitions. The additional spacing in the example below indicates the partition.) \n",
    "\n",
    "    EX:\n",
    "        Input: 3->5->8->5->10->2->1  [partition = 5]\n",
    "        Output: 3->1->2  ->  10->5->5->8"
   ]
  },
  {
   "cell_type": "code",
   "execution_count": 108,
   "metadata": {
    "scrolled": true
   },
   "outputs": [
    {
     "name": "stdout",
     "output_type": "stream",
     "text": [
      "Original List:\n",
      "3 -> 5 -> 8 -> 5 -> 10 -> 2 -> 1\n",
      "Partitioning around value: 5\n",
      "Final List:\n",
      "1 -> 2 -> 3 -> 5 -> 8 -> 5 -> 10\n"
     ]
    }
   ],
   "source": [
    "def partition(llist, partition):\n",
    "    tail = llist.head\n",
    "    node = tail\n",
    "\n",
    "    while node:\n",
    "        next_node = node.next\n",
    "        \n",
    "        if node.data < partition:\n",
    "            node.next = llist.head\n",
    "            llist.head = node\n",
    "        else:\n",
    "            tail.next = node\n",
    "            tail = node\n",
    "            \n",
    "\n",
    "        node = next_node\n",
    "    \n",
    "    tail.next = None\n",
    "    \n",
    "    return\n",
    "\n",
    "llist = LinkedList()\n",
    "llist.head = Node(3)\n",
    "second = Node(5)\n",
    "third = Node(8)\n",
    "fourth = Node(5)\n",
    "fifth = Node(10)\n",
    "sixth = Node(2)\n",
    "seventh = Node(1)\n",
    "\n",
    "llist.head.next = second\n",
    "second.next = third\n",
    "third.next = fourth\n",
    "fourth.next = fifth\n",
    "fifth.next = sixth\n",
    "sixth.next = seventh\n",
    "\n",
    "print(\"Original List:\")\n",
    "llist.printList()\n",
    "print(\"Partitioning around value: 5\")\n",
    "partition(llist, 5)\n",
    "print(\"Final List:\")\n",
    "llist.printList()"
   ]
  },
  {
   "cell_type": "markdown",
   "metadata": {},
   "source": [
    "## 2.5: Sum Lists:\n",
    "You have two numbers represented by a linked list, where each node contains a single digit.\n",
    "The digits are stored in reverse order, such that the 1's digit is at the head of the list.\n",
    "Write a function that adds the two numbers and returns the sum as a linked list. (You are\n",
    "not allowed to \"cheat\" and just convert the linked list to an integer.)\n",
    "\n",
    "    EX:\n",
    "        Input: (7->1->6) + (5->9->2). That is, 617 + 295.\n",
    "        Output: 2->1->9. That is, 912.\n",
    "Follow Up:\n",
    "    Suppose the digits are stored in foward order. Repeat the above problem.\n",
    "    \n",
    "        EX:\n",
    "            Input: (6->1->7) + (2->9->5). That is, 617 + 295.\n",
    "            Output: 9->1->2. That is, 912."
   ]
  },
  {
   "cell_type": "code",
   "execution_count": 116,
   "metadata": {},
   "outputs": [
    {
     "name": "stdout",
     "output_type": "stream",
     "text": [
      "Original Lists:\n",
      "6 -> 8 -> 4 -> 3\n",
      "7 -> 8 -> 4 -> 3\n",
      "3 -> 7 -> 9 -> 6\n",
      "3,486 + 3,487\n",
      "= 6,793\n"
     ]
    }
   ],
   "source": [
    "def sum_lists(llist1, llist2):\n",
    "    new_llist = LinkedList()\n",
    "    prev = None\n",
    "    tmp = None\n",
    "    carry = 0\n",
    "    \n",
    "    node1 = llist1.head\n",
    "    node2 = llist2.head\n",
    "    \n",
    "    while node1 is not None or node2 is not None:\n",
    "        first = 0 if node1 is None else node1.data\n",
    "        second = 0 if node2 is None else node2.data\n",
    "        \n",
    "        total = carry + first + second\n",
    "        \n",
    "        carry = 1 if total >= 10 else 0\n",
    "        \n",
    "        total = total if total < 10 else total % 10\n",
    "        \n",
    "        tmp = Node(total)\n",
    "        \n",
    "        if new_llist.head is None:\n",
    "            new_llist.head = tmp\n",
    "        else:\n",
    "            prev.next = tmp\n",
    "            \n",
    "        prev = tmp\n",
    "        \n",
    "        if node1 is not None:\n",
    "            node1 = node1.next\n",
    "        if node2 is not None:\n",
    "            node2 = node2.next\n",
    "            \n",
    "        if carry > 0:\n",
    "            tmp.next = Node(carry)\n",
    "\n",
    "    return new_llist\n",
    "\n",
    "# List 1\n",
    "llist = LinkedList()\n",
    "llist.head = Node(6)\n",
    "second = Node(8)\n",
    "third = Node(4)\n",
    "fourth = Node(3)\n",
    "\n",
    "llist.head.next = second\n",
    "second.next = third\n",
    "third.next = fourth\n",
    "\n",
    "# List 2\n",
    "llist2 = LinkedList()\n",
    "llist2.head = Node(7)\n",
    "second2 = Node(4)\n",
    "third2 = Node(9)\n",
    "\n",
    "llist2.head.next = second\n",
    "second2.next = third\n",
    "third2.next = fourth\n",
    "\n",
    "print(\"Original Lists:\")\n",
    "llist.printList()\n",
    "llist2.printList()\n",
    "\n",
    "new_list = sum_lists(llist, llist2)\n",
    "new_list.printList()\n",
    "print(\"3,486 + 3,487\")\n",
    "print(\"= 6,793\")"
   ]
  },
  {
   "cell_type": "markdown",
   "metadata": {},
   "source": [
    "## 2.6: Palindrome:\n",
    "Implement a function to check if a linked list is a palindrome."
   ]
  },
  {
   "cell_type": "code",
   "execution_count": 119,
   "metadata": {},
   "outputs": [
    {
     "name": "stdout",
     "output_type": "stream",
     "text": [
      "Original List:\n",
      "4 -> 2 -> 0 -> 2 -> 4\n",
      "is a palindrome\n"
     ]
    }
   ],
   "source": [
    "def palindrome(llist):\n",
    "    is_palindrome = True\n",
    "    head = llist.head\n",
    "    \n",
    "    stack = []\n",
    "    \n",
    "    tmp = head\n",
    "    \n",
    "    while tmp:\n",
    "        stack.append(tmp.data)\n",
    "        tmp = tmp.next\n",
    "        \n",
    "    while head:\n",
    "        i = stack.pop()\n",
    "        \n",
    "        if head.data == i:\n",
    "            is_palindrome = True\n",
    "        else:\n",
    "            return False\n",
    "        \n",
    "        head = head.next\n",
    "\n",
    "    return is_palindrome\n",
    "\n",
    "llist = LinkedList()\n",
    "llist.head = Node(4)\n",
    "second = Node(2)\n",
    "third = Node(0)\n",
    "fourth = Node(2)\n",
    "fifth = Node(4)\n",
    "\n",
    "llist.head.next = second\n",
    "second.next = third\n",
    "third.next = fourth\n",
    "fourth.next = fifth\n",
    "\n",
    "print(\"Original List:\")\n",
    "llist.printList()p\n",
    "print(\"is a palindrome\") if palindrome(llist) else print(\"is not a palindrome\")"
   ]
  },
  {
   "cell_type": "markdown",
   "metadata": {},
   "source": [
    "## 2.7: Intersection:\n",
    "Given two (singly) linked lists, determine if the two lists intersect. Return the intersection node. Note that the \n",
    "intersection is defined based on reference, not value. That is, if the kth node of the first linked list is the exact\n",
    "same node (by referenece) as the jth node of the second linked list, then they are intersecting.\n",
    "\n",
    "### Brute Force Solution: For each node, loop through entire other list\n",
    "> Time Complexity:\n",
    "- On Average: $O(N^2)$ where $N$ is the length of the linkedList\n",
    "\n",
    "> Space Complexity:\n",
    "- $O(1)$ since there is no auxilary space required -- only call stack"
   ]
  },
  {
   "cell_type": "code",
   "execution_count": 130,
   "metadata": {},
   "outputs": [
    {
     "name": "stdout",
     "output_type": "stream",
     "text": [
      "List 1:\n",
      "6 -> 8 -> 4 -> 3\n",
      "List 2:\n",
      "7 -> 4 -> 9 -> 3\n",
      "Lists intersect\n"
     ]
    }
   ],
   "source": [
    "def intersection(llist1, llist2):\n",
    "    node1 = llist1.head\n",
    "    node2 = llist2.head\n",
    "    \n",
    "    print(\"List 1:\")\n",
    "    llist1.printList()\n",
    "    print(\"List 2:\")\n",
    "    llist2.printList()\n",
    "    \n",
    "    while node1:\n",
    "        node2 = llist2.head\n",
    "        while node2:\n",
    "            if node2 == node1: return True\n",
    "            node2 = node2.next\n",
    "        node1 = node1.next\n",
    "    return False\n",
    "\n",
    "# List 1\n",
    "llist = LinkedList()\n",
    "llist.head = Node(6)\n",
    "second = Node(8)\n",
    "third = Node(4)\n",
    "fourth = Node(3)\n",
    "\n",
    "llist.head.next = second\n",
    "second.next = third\n",
    "third.next = fourth\n",
    "\n",
    "# List 2\n",
    "llist2 = LinkedList()\n",
    "llist2.head = Node(7)\n",
    "second2 = Node(4)\n",
    "third2 = Node(9)\n",
    "\n",
    "llist2.head.next = second2\n",
    "second2.next = third2\n",
    "third2.next = fourth\n",
    "\n",
    "print(\"Lists intersect\") if intersection(llist, llist2) else print(\"Lists do not intersect\")"
   ]
  },
  {
   "cell_type": "markdown",
   "metadata": {},
   "source": [
    "## 2.8: Loop Detection:\n",
    "Given a linked-list which might contain a loop, implement an algorithm that retirns the node at the beginning of the loop if one exists.\n",
    "\n",
    "    EX:\n",
    "        Input: A->B->C->D->E->C [the same C as earlier]\n",
    "        Output: C"
   ]
  },
  {
   "cell_type": "code",
   "execution_count": 141,
   "metadata": {},
   "outputs": [
    {
     "name": "stdout",
     "output_type": "stream",
     "text": [
      "Loop detected. Start Node: 6\n"
     ]
    }
   ],
   "source": [
    "def loop_detection(llist):\n",
    "    nodes = {}\n",
    "    node = llist.head\n",
    "    \n",
    "    while node:\n",
    "        nodes[node.data] = 1 if node.data not in nodes.keys() else nodes[node.data] + 1\n",
    "        node = node.next\n",
    "        \n",
    "    for key in nodes.keys():\n",
    "        if nodes[key] > 1: return key\n",
    "    return None\n",
    "\n",
    "llist = LinkedList()\n",
    "llist.head = Node(6)\n",
    "second = Node(8)\n",
    "third = Node(4)\n",
    "fourth = Node(6)\n",
    "\n",
    "llist.head.next = second\n",
    "second.next = third\n",
    "third.next = fourth\n",
    "\n",
    "print(\"Loop detected. Start Node:\", loop_detection(llist)) if loop_detection(llist) is not None else print(\"No loop detected\")"
   ]
  },
  {
   "cell_type": "code",
   "execution_count": null,
   "metadata": {},
   "outputs": [],
   "source": []
  }
 ],
 "metadata": {
  "kernelspec": {
   "display_name": "Python 3",
   "language": "python",
   "name": "python3"
  },
  "language_info": {
   "codemirror_mode": {
    "name": "ipython",
    "version": 3
   },
   "file_extension": ".py",
   "mimetype": "text/x-python",
   "name": "python",
   "nbconvert_exporter": "python",
   "pygments_lexer": "ipython3",
   "version": "3.7.3"
  }
 },
 "nbformat": 4,
 "nbformat_minor": 2
}
