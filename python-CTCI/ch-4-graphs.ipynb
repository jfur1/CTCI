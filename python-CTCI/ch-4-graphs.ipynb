{
 "cells": [
  {
   "cell_type": "markdown",
   "metadata": {},
   "source": [
    "# Trees and Graphs\n",
    "\n",
    "### Depth First Search & Breadth First Search:"
   ]
  },
  {
   "cell_type": "code",
   "execution_count": 57,
   "metadata": {},
   "outputs": [
    {
     "name": "stdout",
     "output_type": "stream",
     "text": [
      "DFS:\n",
      "0 1 2 3 \n",
      "BFS Starting at node: 1\n",
      "1 2 0 3 "
     ]
    }
   ],
   "source": [
    "from collections import defaultdict\n",
    "        \n",
    "class Graph:\n",
    "    def __init__(self, nodes=[]):\n",
    "        # default dictionary to store graph\n",
    "        self.nodes = defaultdict(list)\n",
    "        \n",
    "    def addEdge(self, u, v):\n",
    "        self.nodes[u].append(v)\n",
    "    \n",
    "    \n",
    "        \n",
    "def DFS_Util(node, graph, visited):\n",
    "    visited.append(node)\n",
    "    print(node, end=\" \")\n",
    "    for neighbor in graph.nodes[node]:\n",
    "        if neighbor not in visited:\n",
    "            DFS_Util(neighbor, graph, visited)\n",
    "            \n",
    "            \n",
    "def DFS(graph):\n",
    "    print(\"DFS:\")\n",
    "    explored = []\n",
    "    \n",
    "    for vertex in graph.nodes:\n",
    "        if vertex not in explored:\n",
    "            DFS_Util(vertex, graph, explored)\n",
    "            \n",
    "            \n",
    "def BFS(node, graph):\n",
    "    print(\"\\nBFS Starting at node:\", node)\n",
    "    \n",
    "    # Mark all vertices as not visited\n",
    "    visited = [False] * (max(graph.nodes)+1)\n",
    "    \n",
    "    # Create a queue for BFS\n",
    "    q = []\n",
    "    \n",
    "    # Mark source node as visited and enqueue it\n",
    "    q.append(node)\n",
    "    visited[node] = True\n",
    "    \n",
    "    while q:\n",
    "        # Dequeue a node and print it\n",
    "        s = q.pop(0)\n",
    "        print(s, end=\" \")\n",
    "        \n",
    "        # Get all adjacent neighbors from the popped node.\n",
    "        # If not visited, then mark as visited and enqueue\n",
    "        for node in graph.nodes[s]:\n",
    "            if visited[node] == False:\n",
    "                q.append(node)\n",
    "                visited[node] = True\n",
    "    \n",
    "# Begin Testing\n",
    "g = Graph()\n",
    "g.addEdge(0, 1)\n",
    "g.addEdge(0, 2)\n",
    "g.addEdge(1, 2)\n",
    "g.addEdge(2, 0)\n",
    "g.addEdge(2, 3)\n",
    "g.addEdge(3, 3)\n",
    "\n",
    "DFS(g)\n",
    "BFS(g.nodes[0][0], g)"
   ]
  },
  {
   "cell_type": "markdown",
   "metadata": {},
   "source": [
    "## 4.1: Route Between Nodes\n",
    "Given a directed graph and two nodes (S and E), design an algorithm to find out whether there is a route from S to E."
   ]
  },
  {
   "cell_type": "code",
   "execution_count": 70,
   "metadata": {},
   "outputs": [
    {
     "name": "stdout",
     "output_type": "stream",
     "text": [
      "\n",
      "Checking for route between 1 and 3 \n",
      "...\n",
      "True\n",
      "\n",
      "Checking for route between 3 and 1 \n",
      "...\n",
      "False\n"
     ]
    }
   ],
   "source": [
    "# Modify BFS such that traversal terminates if we encounter node E\n",
    "def route_between(graph, S, E):\n",
    "    print(\"\\nChecking for route between {} and {}\".format(S, E), \"\\n...\")\n",
    "    \n",
    "    # Mark all nodes as not visited\n",
    "    visited = [False] * (max(graph.nodes) + 1)\n",
    "    \n",
    "    # Create a queue for BFS\n",
    "    q = []\n",
    "    \n",
    "    # Mark source node as visited and enqueue\n",
    "    visited[S] = True\n",
    "    q.append(S)\n",
    "    \n",
    "    while q:\n",
    "        # Dequeue node and pop\n",
    "        s = q.pop(0)\n",
    "        \n",
    "        # Target Check:\n",
    "        if s == E: return True\n",
    "        \n",
    "        for node in graph.nodes[s]:\n",
    "            if visited[node] == False:\n",
    "                q.append(node)\n",
    "                visited[node] = True\n",
    "    return False\n",
    "\n",
    "\n",
    "print(route_between(g, g.nodes[0][0], g.nodes[3][0]))\n",
    "print(route_between(g, g.nodes[3][0], g.nodes[0][0]))"
   ]
  },
  {
   "cell_type": "markdown",
   "metadata": {},
   "source": [
    "## 4.2: Minimal Tree\n",
    "Given a sorted (increasing order) array with unique integer elements, write an algorithm to create a binary search tree with minimal height."
   ]
  },
  {
   "cell_type": "code",
   "execution_count": null,
   "metadata": {},
   "outputs": [],
   "source": []
  },
  {
   "cell_type": "markdown",
   "metadata": {},
   "source": [
    "## 4.3: List of Depths\n",
    "Given a binary tree, design an algorithm which creates a linked list of all the nodes at each depth. (E.g. if you have a tree with depth D, you will have D linked lists)."
   ]
  },
  {
   "cell_type": "code",
   "execution_count": null,
   "metadata": {},
   "outputs": [],
   "source": []
  },
  {
   "cell_type": "markdown",
   "metadata": {},
   "source": [
    "## 4.4: Check Balanced\n",
    "Implement a function to check if a binary tree is balanced. For the purposes of this question, a balanced tree is defined to be a tree such that the heights of two subtrees of any node never differ by more than one."
   ]
  },
  {
   "cell_type": "code",
   "execution_count": null,
   "metadata": {},
   "outputs": [],
   "source": []
  },
  {
   "cell_type": "markdown",
   "metadata": {},
   "source": [
    "## 4.5: Validate BST\n",
    "Implement a function to check if a binary tree is a binary search tree."
   ]
  },
  {
   "cell_type": "code",
   "execution_count": null,
   "metadata": {},
   "outputs": [],
   "source": []
  },
  {
   "cell_type": "markdown",
   "metadata": {},
   "source": [
    "## 4.6: Successor\n",
    "Write an algorithm to find the \"next\" node (i.e., in-order successor) of a given node in a binary search tree. You may assume that each node has a link to its parent."
   ]
  },
  {
   "cell_type": "code",
   "execution_count": null,
   "metadata": {},
   "outputs": [],
   "source": []
  },
  {
   "cell_type": "markdown",
   "metadata": {},
   "source": [
    "## 4.7: Build Order\n",
    "You are given a list of projects and a list of dependencies (which is a list of pair of projects, where the second project is dependent on the first project). All of a project's dependencies must be built before the project is. Find a build order that will allow the projects to be built. If there is no valid build order, return an error."
   ]
  },
  {
   "cell_type": "code",
   "execution_count": null,
   "metadata": {},
   "outputs": [],
   "source": []
  },
  {
   "cell_type": "markdown",
   "metadata": {},
   "source": [
    "## 4.8: First Common Ancestor\n",
    "Design an algorithm and write code to find the first common ancestor of two nodes in a binary tree. Avoid storing additional nodes in a data structure. NOTE: this is not necessarily a binary serach tree."
   ]
  },
  {
   "cell_type": "code",
   "execution_count": null,
   "metadata": {},
   "outputs": [],
   "source": []
  },
  {
   "cell_type": "markdown",
   "metadata": {},
   "source": [
    "## 4.9: BST Sequences\n",
    "A binary search tree was created by traversing through an array from left to right and inserting each element. Given a binary search tree with distinct elements, print all possible arrays that could have led to this tree."
   ]
  },
  {
   "cell_type": "code",
   "execution_count": null,
   "metadata": {},
   "outputs": [],
   "source": []
  },
  {
   "cell_type": "markdown",
   "metadata": {},
   "source": [
    "## 4.10: Check Subtree\n",
    "`T1` and `T2` are two very large binary trees, with `T1` much bigger than `T2`. Create an algorithm to determine if `T2` is a subtree of `T1`.\n",
    "\n",
    "A tree `T2` is a subtree of `T1` if there exists a node `n` in `T1` such that the subtree of `n` is identical to `T2`. That is, if you cut off the tree at node `n`, the two trees would be identical."
   ]
  },
  {
   "cell_type": "code",
   "execution_count": null,
   "metadata": {},
   "outputs": [],
   "source": []
  },
  {
   "cell_type": "markdown",
   "metadata": {},
   "source": [
    "## 4.11: Random Node\n",
    "You are implementing a binary serach tree class from scratch which, in addition to `insert`, `find`, and `delete`, has a method `getRandomNode()` which returns a random node from the tree. All nodes should be equally likely to be chosen. Design and implement an algorithm for `getRandomNode`, and explain how you would implement the rest of the methods."
   ]
  },
  {
   "cell_type": "code",
   "execution_count": null,
   "metadata": {},
   "outputs": [],
   "source": []
  },
  {
   "cell_type": "markdown",
   "metadata": {},
   "source": [
    "## 4.12: Paths with Sum\n",
    "You are given a binary tree in whcih each node contains an integer of value (which might be positive or negative). Design an algorithm to count the number of paths that sum to a given value. The path does not need to start or end at the root or a leaf, but it must go downwards (traveling only from parent to child nodes)."
   ]
  },
  {
   "cell_type": "code",
   "execution_count": null,
   "metadata": {},
   "outputs": [],
   "source": []
  }
 ],
 "metadata": {
  "kernelspec": {
   "display_name": "Python 3",
   "language": "python",
   "name": "python3"
  },
  "language_info": {
   "codemirror_mode": {
    "name": "ipython",
    "version": 3
   },
   "file_extension": ".py",
   "mimetype": "text/x-python",
   "name": "python",
   "nbconvert_exporter": "python",
   "pygments_lexer": "ipython3",
   "version": "3.7.3"
  }
 },
 "nbformat": 4,
 "nbformat_minor": 2
}
