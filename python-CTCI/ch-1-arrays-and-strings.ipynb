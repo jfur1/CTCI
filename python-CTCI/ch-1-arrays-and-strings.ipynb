{
 "cells": [
  {
   "cell_type": "markdown",
   "metadata": {},
   "source": [
    "# Chapter 1: Arrays and Strings\n",
    "<hr>"
   ]
  },
  {
   "cell_type": "markdown",
   "metadata": {},
   "source": [
    "## 1.1: isUnique: \n",
    "\n",
    "Implement an algorithm to determine if a string has all unique characters. What if you cannot use additional data structures?\n",
    "\n",
    "### Solution: Use a hashmap (dictionary)\n",
    "<blockquote>\n",
    "Time Complexity: <br>\n",
    "\n",
    "- Average Case: $O(n)$\n",
    "    - $O(n)$ to traverse each character in the string, and $O(1)$ (amortized) for `foo in bar.keys()`\n",
    "\n",
    "- Worst Case (Amortized): $O(n^2)$\n",
    "    - $O(n)$ to traverse each character, and $O(n)$ for each `foo in bar.keys()`\n",
    "</blockquote>\n",
    "\n",
    "<blockquote>\n",
    "Space Complexity: <br>\n",
    "    \n",
    "- $O(1)$ since the for loop will never iterate through more than 128 characters (assuming ASCII)\n",
    "</blockquote>\n",
    "\n",
    "### Without additional data structures? => Two Ideas:\n",
    "1. Check each character against all other characters for a match\n",
    "\n",
    "2. Sort the characters, then check for adjacent duplicates."
   ]
  },
  {
   "cell_type": "code",
   "execution_count": 1,
   "metadata": {},
   "outputs": [
    {
     "data": {
      "text/plain": [
       "False"
      ]
     },
     "execution_count": 1,
     "metadata": {},
     "output_type": "execute_result"
    }
   ],
   "source": [
    "def isUnique(word):\n",
    "    letters = {}\n",
    "    for i in word:\n",
    "        if i in letters.keys():\n",
    "            return False\n",
    "        else:\n",
    "            letters[i] = i\n",
    "    return true\n",
    "\n",
    "isUnique(\"racecar\")"
   ]
  },
  {
   "cell_type": "markdown",
   "metadata": {},
   "source": [
    "## 1.2: check_permutation: \n",
    "\n",
    "Given two strings, write a method to decide if one is a permutation of the other.\n",
    "\n",
    "### Solution: Use a hashmap to store count of each letter\n",
    "> **Time Complexity:**\n",
    "- **Average Case:** $O(N)$\n",
    "    - Assuming `foo in bar.keys()` takes $O(1)$ time on average, there will be $2N ~ O(N)$ operations\n",
    "- **Worst Case:** $O(N^2)$\n",
    "    - If somehow we have a collision for each key, then we will have to perform $2N ~ O(N)$ operations for each of the $N$ characters in the string\n",
    "    \n",
    "> **Space Complexity:** $O(N)$\n",
    "- Worst case, each character of the strings is unique, requiring $N$ space for each dict $(2N$ ~ $O(N))$"
   ]
  },
  {
   "cell_type": "code",
   "execution_count": 2,
   "metadata": {},
   "outputs": [
    {
     "name": "stdout",
     "output_type": "stream",
     "text": [
      "1. 'racecar' and 'carrace' are permutations of each other.\n",
      "2. 'dog' and 'cat' are not permutations of each other.\n"
     ]
    }
   ],
   "source": [
    "def check_permutation(string1, string2):\n",
    "    if(len(string1) != len(string2)): return False\n",
    "    \n",
    "    letters1 = {}\n",
    "    letters2 = {}\n",
    "    \n",
    "    for i in range(0, len(string1)):\n",
    "        letters1[string1[i]] = 1 if string1[i] not in letters1.keys() else letters1[string1[i]] + 1\n",
    "        letters2[string2[i]] = 1 if string2[i] not in letters2.keys() else letters2[string2[i]] + 1\n",
    "        \n",
    "    for key in letters1.keys():\n",
    "        # If letter exists in one string but not the other\n",
    "        if(key not in letters2.keys()): return False\n",
    "        # If the number of letters is different\n",
    "        if(letters1[key] != letters2[key]): return False\n",
    "    return True\n",
    "\n",
    "if(check_permutation(\"racecar\", \"carrace\")): print(\"1. 'racecar' and 'carrace' are permutations of each other.\")\n",
    "else: print(\"1. 'racecar' and 'carrace' are not permutations of each other.\")\n",
    "\n",
    "if(check_permutation(\"dog\", \"cat\")): print(\"2. 'dog' and 'cat' are permutations of each other.\")\n",
    "else: print(\"2. 'dog' and 'cat' are not permutations of each other.\")"
   ]
  },
  {
   "cell_type": "markdown",
   "metadata": {},
   "source": [
    "## 1.3: URLify: \n",
    "\n",
    "Write a method to replace all spaces in a string with '%20'. \n",
    "You may assume that the string has sufficient space at the end to hold additional characters,\n",
    "and that you are given the \"true\" length of a string. (Note: If implementing in Java,\n",
    "please use a character array so that you can perform this operation in one place.)\n",
    "\n",
    "### Solution: In-Place substitution\n",
    "> **Time Complexity:**\n",
    "- **Average Case:** $O(?)$\n",
    "- **Worst Case:** $O(?)$\n",
    "    \n",
    "> **Space Complexity:** $3N$ ~ $O(N)$\n",
    "- Worst case, a string of only spaces, would require increasing size by a factor of 3"
   ]
  },
  {
   "cell_type": "code",
   "execution_count": 75,
   "metadata": {},
   "outputs": [
    {
     "data": {
      "text/plain": [
       "'I%20like%20turtles%20'"
      ]
     },
     "execution_count": 75,
     "metadata": {},
     "output_type": "execute_result"
    }
   ],
   "source": [
    "# If we are allowed to use python's builtin string methods \n",
    "# Runtime: O(N^2)\n",
    "def URLify_replace(string): return string.replace(\" \", \"%20\")\n",
    "URLify_replace(\"I like turtles \")"
   ]
  },
  {
   "cell_type": "code",
   "execution_count": 76,
   "metadata": {},
   "outputs": [
    {
     "name": "stdout",
     "output_type": "stream",
     "text": [
      "I%20like%20cats%20and%20dogs%20\n"
     ]
    }
   ],
   "source": [
    "# If no builtin functions allowed:\n",
    "def URLify(string):\n",
    "    i = 0\n",
    "    while True:\n",
    "        if(i == len(string)): break\n",
    "        if(string[i] == \" \"):\n",
    "            remainder = string[i+1:] if i != len(string)-1 else ''\n",
    "            string = string[: i] + ('%20') + remainder\n",
    "        i += 1\n",
    "            \n",
    "    return string\n",
    "    \n",
    "print(URLify(string = \"I like cats and dogs \"))"
   ]
  },
  {
   "cell_type": "markdown",
   "metadata": {},
   "source": [
    "## 1.4: check_palindrome_permutation: \n",
    "\n",
    "Given a string, write  a function to check if it is a permutation of a palindrome.\n",
    "        A palindrome is a word or phase that is the same forwards and backwards. A permutation\n",
    "        is a rearrangement of letters. The palindrome does not need to be limited to just \n",
    "        dictionary words. You can ignore character casing and non-letter characters. \n",
    "        \n",
    "        EX: \n",
    "            Input: Tact Coa\n",
    "            Output: True (permutations: \"taco cat\", \"atco cta\", etc.)"
   ]
  },
  {
   "cell_type": "code",
   "execution_count": 90,
   "metadata": {},
   "outputs": [
    {
     "name": "stdout",
     "output_type": "stream",
     "text": [
      "{'r': 2, 'a': 2, 'c': 2, 'e': 1}\n"
     ]
    }
   ],
   "source": [
    "def check_palindrome_permutation(string):\n",
    "    letters = {}\n",
    "    for i in string.lower():\n",
    "        if i == ' ': continue\n",
    "        letters[i] = 1 if i not in letters.keys() else letters[i] + 1\n",
    "\n",
    "    print(letters)\n",
    "    \n",
    "check_palindrome_permutation(\"Racecar\")"
   ]
  },
  {
   "cell_type": "markdown",
   "metadata": {},
   "source": [
    "## 1.5: one_away: \n",
    "\n",
    "There are three types of edits that can be performed on strings: insert a character,\n",
    "remove a character, or replace a character. Given two strings, write a function to \n",
    "check if they are one edit (or zero edits) away.\n",
    "\n",
    "        Ex:\n",
    "            pale, ple --> true\n",
    "            pales, pale --> true\n",
    "            pale, bale --> true\n",
    "            pale, bake --> false\n",
    "        \n",
    "        EX: \n",
    "            Input: Tact Coa\n",
    "            Output: True (permutations: \"taco cat\", \"atco cta\", etc.)"
   ]
  },
  {
   "cell_type": "code",
   "execution_count": 7,
   "metadata": {},
   "outputs": [],
   "source": [
    "def one_away(string1, string2):\n",
    "    pass"
   ]
  },
  {
   "cell_type": "markdown",
   "metadata": {},
   "source": [
    "## 1.6: string_compression:\n",
    "\n",
    "Implement a method to perform basic string compression using the counts of repeated\n",
    "characters. For example, the string 'aabcccccaaa' would become 'a2b1c5a3'. If the \n",
    "\"compressed\" string would not become smaller than the original string, your method\n",
    "should return the original string. You can assume the string has only uppercase and\n",
    "lowercase letters (a-z)."
   ]
  },
  {
   "cell_type": "code",
   "execution_count": 8,
   "metadata": {},
   "outputs": [],
   "source": [
    "def string_compression(string):\n",
    "    pass"
   ]
  },
  {
   "cell_type": "markdown",
   "metadata": {},
   "source": [
    "## 1.7: rotate_matrix:\n",
    "\n",
    "Given an image represented by an N x N matrix, where each pixel in the image is \n",
    "represented by an integer, write a method to rotate the image by 90 degrees. Can you\n",
    "do this in place?"
   ]
  },
  {
   "cell_type": "code",
   "execution_count": 11,
   "metadata": {},
   "outputs": [],
   "source": [
    "def rotate_matrix(image_matrix):\n",
    "    pass"
   ]
  },
  {
   "cell_type": "markdown",
   "metadata": {},
   "source": [
    "## 1.8: zero_matrix:\n",
    "\n",
    "Write an algorithm such that if an element in an M x N matrix is 0, its entire row and \n",
    "column are set to zero. "
   ]
  },
  {
   "cell_type": "code",
   "execution_count": 12,
   "metadata": {},
   "outputs": [],
   "source": [
    "def zero_matrix(matrix):\n",
    "    pass"
   ]
  },
  {
   "cell_type": "markdown",
   "metadata": {},
   "source": [
    "## 1.9: string_rotation:\n",
    "\n",
    "Assume you have a method 'isSubstring' which checks if one word is a substring of \n",
    "another. Given two strings, s1 and s2, write code to check if s2 is a rotation of \n",
    "s1 using only one call to \"isSubstring\". \n",
    "(e.g., \"waterbottle\" is a rotation of \"erbottlewat\")."
   ]
  },
  {
   "cell_type": "code",
   "execution_count": 13,
   "metadata": {},
   "outputs": [],
   "source": [
    "def string_rotation(string):\n",
    "    pass"
   ]
  }
 ],
 "metadata": {
  "kernelspec": {
   "display_name": "Python 3",
   "language": "python",
   "name": "python3"
  },
  "language_info": {
   "codemirror_mode": {
    "name": "ipython",
    "version": 3
   },
   "file_extension": ".py",
   "mimetype": "text/x-python",
   "name": "python",
   "nbconvert_exporter": "python",
   "pygments_lexer": "ipython3",
   "version": "3.7.3"
  }
 },
 "nbformat": 4,
 "nbformat_minor": 2
}
