{
 "cells": [
  {
   "cell_type": "markdown",
   "metadata": {},
   "source": [
    "# Chapter 1: Arrays and Strings\n",
    "<hr>"
   ]
  },
  {
   "cell_type": "markdown",
   "metadata": {},
   "source": [
    "## 1.1: isUnique: \n",
    "\n",
    "Implement an algorithm to determine if a string has all unique characters. What if you cannot use additional data structures?\n",
    "\n",
    "### Brute Force Solution: Use a hashmap (dictionary)\n",
    "<blockquote>\n",
    "Time Complexity: <br>\n",
    "\n",
    "- Average Case: $O(n)$\n",
    "    - $O(n)$ to traverse each character in the string, and $O(1)$ (amortized) for `foo in bar.keys()`\n",
    "\n",
    "- Worst Case (Amortized): $O(n^2)$\n",
    "    - $O(n)$ to traverse each character, and $O(n)$ for each `foo in bar.keys()`\n",
    "</blockquote>\n",
    "\n",
    "<blockquote>\n",
    "Space Complexity: <br>\n",
    "    \n",
    "- $O(1)$ since the for loop will never iterate through more than 128 characters (assuming ASCII)\n",
    "</blockquote>"
   ]
  },
  {
   "cell_type": "code",
   "execution_count": 18,
   "metadata": {},
   "outputs": [
    {
     "data": {
      "text/plain": [
       "False"
      ]
     },
     "execution_count": 18,
     "metadata": {},
     "output_type": "execute_result"
    }
   ],
   "source": [
    "def isUnique(word):\n",
    "    letters = {}\n",
    "    for i in word:\n",
    "        if i in letters.keys():\n",
    "            return False\n",
    "        else:\n",
    "            letters[i] = i\n",
    "    return true\n",
    "\n",
    "isUnique(\"racecar\")"
   ]
  },
  {
   "cell_type": "markdown",
   "metadata": {},
   "source": [
    "### Better Solution: "
   ]
  },
  {
   "cell_type": "code",
   "execution_count": null,
   "metadata": {},
   "outputs": [],
   "source": []
  }
 ],
 "metadata": {
  "kernelspec": {
   "display_name": "Python 3",
   "language": "python",
   "name": "python3"
  },
  "language_info": {
   "codemirror_mode": {
    "name": "ipython",
    "version": 3
   },
   "file_extension": ".py",
   "mimetype": "text/x-python",
   "name": "python",
   "nbconvert_exporter": "python",
   "pygments_lexer": "ipython3",
   "version": "3.7.3"
  }
 },
 "nbformat": 4,
 "nbformat_minor": 2
}
