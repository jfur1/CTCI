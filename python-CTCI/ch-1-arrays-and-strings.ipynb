{
 "cells": [
  {
   "cell_type": "markdown",
   "metadata": {},
   "source": [
    "# Chapter 1: Arrays and Strings\n",
    "<hr>"
   ]
  },
  {
   "cell_type": "markdown",
   "metadata": {},
   "source": [
    "## 1.1: isUnique: \n",
    "\n",
    "Implement an algorithm to determine if a string has all unique characters. What if you cannot use additional data structures?\n",
    "\n",
    "### Solution: Use a hashmap (dictionary)\n",
    "<blockquote>\n",
    "Time Complexity: <br>\n",
    "\n",
    "- Average Case: $O(n)$\n",
    "    - $O(n)$ to traverse each character in the string, and $O(1)$ (amortized) for `foo in bar.keys()`\n",
    "\n",
    "- Worst Case (Amortized): $O(n^2)$\n",
    "    - $O(n)$ to traverse each character, and $O(n)$ for each `foo in bar.keys()`\n",
    "</blockquote>\n",
    "\n",
    "<blockquote>\n",
    "Space Complexity: <br>\n",
    "    \n",
    "- $O(1)$ since the for loop will never iterate through more than 128 characters (assuming ASCII)\n",
    "</blockquote>\n",
    "\n",
    "### Without additional data structures? => Two Ideas:\n",
    "1. Check each character against all other characters for a match\n",
    "\n",
    "2. Sort the characters, then check for adjacent duplicates."
   ]
  },
  {
   "cell_type": "code",
   "execution_count": 1,
   "metadata": {},
   "outputs": [
    {
     "data": {
      "text/plain": [
       "False"
      ]
     },
     "execution_count": 1,
     "metadata": {},
     "output_type": "execute_result"
    }
   ],
   "source": [
    "def isUnique(word):\n",
    "    letters = {}\n",
    "    for i in word:\n",
    "        if i in letters.keys():\n",
    "            return False\n",
    "        else:\n",
    "            letters[i] = i\n",
    "    return true\n",
    "\n",
    "isUnique(\"racecar\")"
   ]
  },
  {
   "cell_type": "markdown",
   "metadata": {},
   "source": [
    "## 1.2: check_permutation: \n",
    "\n",
    "Given two strings, write a method to decide if one is a permutation of the other.\n",
    "\n",
    "### Solution: Use a hashmap to store count of each letter\n",
    "> **Time Complexity:**\n",
    "- **Average Case:** $O(N)$\n",
    "    - Assuming `foo in bar.keys()` takes $O(1)$ time on average, there will be $2N ~ O(N)$ operations\n",
    "- **Worst Case:** $O(N^2)$\n",
    "    - If somehow we have a collision for each key, then we will have to perform $2N ~ O(N)$ operations for each of the $N$ characters in the string\n",
    "    \n",
    "> **Space Complexity:** $O(N)$\n",
    "- Worst case, each character of the strings is unique, requiring $N$ space for each dict $(2N$ ~ $O(N))$"
   ]
  },
  {
   "cell_type": "code",
   "execution_count": 2,
   "metadata": {},
   "outputs": [
    {
     "name": "stdout",
     "output_type": "stream",
     "text": [
      "1. 'racecar' and 'carrace' are permutations of each other.\n",
      "2. 'dog' and 'cat' are not permutations of each other.\n"
     ]
    }
   ],
   "source": [
    "def check_permutation(string1, string2):\n",
    "    if(len(string1) != len(string2)): return False\n",
    "    \n",
    "    letters1 = {}\n",
    "    letters2 = {}\n",
    "    \n",
    "    for i in range(0, len(string1)):\n",
    "        letters1[string1[i]] = 1 if string1[i] not in letters1.keys() else letters1[string1[i]] + 1\n",
    "        letters2[string2[i]] = 1 if string2[i] not in letters2.keys() else letters2[string2[i]] + 1\n",
    "        \n",
    "    for key in letters1.keys():\n",
    "        # If letter exists in one string but not the other\n",
    "        if(key not in letters2.keys()): return False\n",
    "        # If the number of letters is different\n",
    "        if(letters1[key] != letters2[key]): return False\n",
    "    return True\n",
    "\n",
    "if(check_permutation(\"racecar\", \"carrace\")): print(\"1. 'racecar' and 'carrace' are permutations of each other.\")\n",
    "else: print(\"1. 'racecar' and 'carrace' are not permutations of each other.\")\n",
    "\n",
    "if(check_permutation(\"dog\", \"cat\")): print(\"2. 'dog' and 'cat' are permutations of each other.\")\n",
    "else: print(\"2. 'dog' and 'cat' are not permutations of each other.\")"
   ]
  },
  {
   "cell_type": "markdown",
   "metadata": {},
   "source": [
    "## 1.3: URLify: \n",
    "\n",
    "Write a method to replace all spaces in a string with '%20'. \n",
    "You may assume that the string has sufficient space at the end to hold additional characters,\n",
    "and that you are given the \"true\" length of a string. (Note: If implementing in Java,\n",
    "please use a character array so that you can perform this operation in one place.)\n",
    "\n",
    "### Solution: In-Place substitution\n",
    "> **Time Complexity:**\n",
    "- **Average Case:** $O(?)$\n",
    "- **Worst Case:** $O(?)$\n",
    "    \n",
    "> **Space Complexity:** $3N$ ~ $O(N)$\n",
    "- Worst case, a string of only spaces, would require increasing size by a factor of 3"
   ]
  },
  {
   "cell_type": "code",
   "execution_count": 53,
   "metadata": {},
   "outputs": [
    {
     "data": {
      "text/plain": [
       "'I%20like%20turtles%20'"
      ]
     },
     "execution_count": 53,
     "metadata": {},
     "output_type": "execute_result"
    }
   ],
   "source": [
    "# If we are allowed to use python's builtin string methods \n",
    "# Runtime: O(N^2)\n",
    "def URLify_replace(string): return string.replace(\" \", \"%20\")\n",
    "URLify_replace(\"I like turtles \")"
   ]
  },
  {
   "cell_type": "code",
   "execution_count": 54,
   "metadata": {},
   "outputs": [
    {
     "name": "stdout",
     "output_type": "stream",
     "text": [
      "I%20like%20cats%20and%20dogs%20\n"
     ]
    }
   ],
   "source": [
    "# If no builtin functions allowed:\n",
    "def URLify(string):\n",
    "    i = 0\n",
    "    while True:\n",
    "        if(i == len(string)): break\n",
    "        if(string[i] == \" \"):\n",
    "            remainder = string[i+1:] if i != len(string)-1 else ''\n",
    "            string = string[: i] + ('%20') + remainder\n",
    "        i += 1\n",
    "            \n",
    "    return string\n",
    "    \n",
    "print(URLify(string = \"I like cats and dogs \"))"
   ]
  },
  {
   "cell_type": "markdown",
   "metadata": {},
   "source": [
    "## 1.4: check_palindrome_permutation: \n",
    "\n",
    "Given a string, write  a function to check if it is a permutation of a palindrome.\n",
    "        A palindrome is a word or phase that is the same forwards and backwards. A permutation\n",
    "        is a rearrangement of letters. The palindrome does not need to be limited to just \n",
    "        dictionary words. You can ignore character casing and non-letter characters. \n",
    "        \n",
    "        EX: \n",
    "            Input: Tact Coa\n",
    "            Output: True (permutations: \"taco cat\", \"atco cta\", etc.)\n",
    "            \n",
    "### Solution: Non-pivot (middle) chars must have even parity\n",
    "If there is more than one character with an odd parity, then a palindrome cannot be formed\n",
    "\n",
    "> **Time Complexity:**\n",
    "- **Average Case:** $O(N)$\n",
    "- **Worst Case:** $O(N)$\n",
    "    \n",
    "> **Space Complexity:** ~$\\frac{1}{2}N$ ~ $O(N)$"
   ]
  },
  {
   "cell_type": "code",
   "execution_count": 55,
   "metadata": {},
   "outputs": [
    {
     "name": "stdout",
     "output_type": "stream",
     "text": [
      "1: 'racecar' =>  ({'r': 2, 'a': 2, 'c': 2, 'e': 1}, True)\n",
      "2: 'eracecar' => ({'e': 2, 'r': 2, 'a': 2, 'c': 2}, True)\n",
      "3: ' e car race  ' => ({'e': 2, 'r': 2, 'a': 2, 'c': 2}, True)\n"
     ]
    }
   ],
   "source": [
    "def print_palindromes(letters):\n",
    "    pass\n",
    "def check_palindrome_permutation(string):\n",
    "    letters = {}\n",
    "    # pivot (middle char) can have any number of occurrences, but padding must have even parity\n",
    "    pivot = \"\"\n",
    "    for i in string.lower():\n",
    "        if i == ' ': continue\n",
    "        \n",
    "        if i not in letters.keys(): letters[i] = 1\n",
    "            \n",
    "        else:\n",
    "            letters[i] += 1\n",
    "            if(letters[i] > 2):\n",
    "                if pivot != \"\" and i != pivot:\n",
    "                    return False\n",
    "                else:\n",
    "                    pivot = i\n",
    "                    \n",
    "    return letters, True\n",
    "    \n",
    "print(\"1: 'racecar' => \", check_palindrome_permutation(\"racecar\"))\n",
    "print(\"2: 'eracecar' =>\", check_palindrome_permutation(\"eracecar\"))\n",
    "print(\"3: ' e car race  ' =>\", check_palindrome_permutation(\"eracecar\"))"
   ]
  },
  {
   "cell_type": "markdown",
   "metadata": {},
   "source": [
    "## 1.5: one_away: \n",
    "\n",
    "There are three types of edits that can be performed on strings: insert a character,\n",
    "remove a character, or replace a character. Given two strings, write a function to \n",
    "check if they are one edit (or zero edits) away.\n",
    "\n",
    "        Ex:\n",
    "            pale, ple --> true\n",
    "            pales, pale --> true\n",
    "            pale, bale --> true\n",
    "            pale, bake --> false\n",
    "            \n",
    "### Solution: Use a hashmap to store occurrences; False if more than 2 mismatches\n",
    "\n",
    "> **Time Complexity:**\n",
    "- **Average Case:** $O(N + M)$ where $N$ is the length of string1 and $M$ is the length of string2\n",
    "- **Worst Case:** $O(N + M + L)$ where L is the length of the dictionary\n",
    "    - This would be the case where each dictionary access resulted in collision, taking $O(N)$ time.\n",
    "    \n",
    "> **Space Complexity:** ~$\\frac{1}{2}N$ ~ $O(N)$"
   ]
  },
  {
   "cell_type": "code",
   "execution_count": 56,
   "metadata": {},
   "outputs": [
    {
     "name": "stdout",
     "output_type": "stream",
     "text": [
      "( pale , ple ) : True\n",
      "( pales , pale ) : True\n",
      "( pale , bale ) : True\n",
      "( pale , bake ) : False\n"
     ]
    }
   ],
   "source": [
    "def one_away(string1, string2):\n",
    "    edits = 0\n",
    "    letters1 = {}\n",
    "    letters2 = {}\n",
    "    \n",
    "    if(string1 == string2): return True\n",
    "    \n",
    "    for i in string1:\n",
    "        letters1[i] = 1 if i not in letters1.keys() else letters1[i] + 1\n",
    "        \n",
    "    for i in string2:\n",
    "        letters2[i] = 1 if i not in letters2.keys() else letters2[i] + 1\n",
    "        \n",
    "    for key in letters1.keys():\n",
    "        if key not in letters2.keys() or letters1[key] != letters2[key]:\n",
    "            edits += 1\n",
    "    \n",
    "    print('(', string1, ',', string2, ')', end=' : ')\n",
    "    return True if edits < 2 else False\n",
    "\n",
    "\n",
    "print(one_away(\"pale\", \"ple\"))\n",
    "print(one_away(\"pales\", \"pale\"))\n",
    "print(one_away(\"pale\", \"bale\"))\n",
    "print(one_away(\"pale\", \"bake\"))"
   ]
  },
  {
   "cell_type": "markdown",
   "metadata": {},
   "source": [
    "## 1.6: string_compression:\n",
    "\n",
    "Implement a method to perform basic string compression using the counts of repeated\n",
    "characters. For example, the string 'aabcccccaaa' would become 'a2b1c5a3'. If the \n",
    "\"compressed\" string would not become smaller than the original string, your method\n",
    "should return the original string. You can assume the string has only uppercase and\n",
    "lowercase letters (a-z).\n",
    "\n",
    "### Solution: Keep track of prev_char and count\n",
    "\n",
    "> **Time Complexity:**\n",
    "- $O(N)$ where N is the length of the string\n",
    "    - At most N ops for iterating through each character\n",
    "    \n",
    "> **Space Complexity:** $O(N)$\n",
    "- Worst case, we have something like \"abcdef\" which will require $2N$ ~ $O(N)$ space."
   ]
  },
  {
   "cell_type": "code",
   "execution_count": 66,
   "metadata": {},
   "outputs": [
    {
     "name": "stdout",
     "output_type": "stream",
     "text": [
      "a2b1c5a3\n"
     ]
    }
   ],
   "source": [
    "def string_compression(string):\n",
    "    count = 0\n",
    "    prev_char = string[0]\n",
    "    new_string = \"\"\n",
    "    for i in string:\n",
    "        if prev_char != i:\n",
    "            new_string += prev_char + str(count)\n",
    "            prev_char = i\n",
    "            count = 1\n",
    "        else:\n",
    "            count += 1\n",
    "            \n",
    "    new_string += prev_char + str(count)\n",
    "    return new_string if len(new_string) < len(string) else string\n",
    "\n",
    "print(string_compression(\"aabcccccaaa\"))"
   ]
  },
  {
   "cell_type": "markdown",
   "metadata": {},
   "source": [
    "## 1.7: rotate_matrix:\n",
    "\n",
    "Given an image represented by an N x N matrix, where each pixel in the image is \n",
    "represented by an integer, write a method to rotate the image by 90 degrees. Can you\n",
    "do this in place?\n",
    "\n",
    "### Solution: Use a new matrix to store values at inverted indices of original matrix\n",
    "\n",
    "> **Time Complexity:**\n",
    "- $O(N^2)$\n",
    "    - For each row in the matrix, we iterate through the columns and create a copy using inverted indices\n",
    "    \n",
    "> **Space Complexity:** $O(N^2)$\n",
    "- We are creating a new matrix with the same size (NxN). This requires $O(N^2)$ space."
   ]
  },
  {
   "cell_type": "code",
   "execution_count": 121,
   "metadata": {},
   "outputs": [
    {
     "name": "stdout",
     "output_type": "stream",
     "text": [
      "Orginial Matrix:\n",
      "[101]\n",
      "[102]\n",
      "[103]\n",
      "Rotated Matrix:\n",
      "[111]\n",
      "[000]\n",
      "[123]\n"
     ]
    }
   ],
   "source": [
    "def print_matrix(matrix):\n",
    "    for row in matrix:\n",
    "        print('[', end='')\n",
    "        for col in row:\n",
    "            print(col, end='')\n",
    "        print(']')\n",
    "    return\n",
    "\n",
    "def rotate_matrix(image_matrix):\n",
    "    new_matrix = []\n",
    "    \n",
    "    for row in range(len(image_matrix)):\n",
    "        new_matrix.append([])\n",
    "        for col in range(len(image_matrix[row])):\n",
    "            new_matrix[row].append(image_matrix[col][row])\n",
    "        \n",
    "    print(\"Orginial Matrix:\")\n",
    "    print_matrix(image_matrix)\n",
    "    print(\"Rotated Matrix:\")\n",
    "    print_matrix(new_matrix)\n",
    "    return\n",
    "\n",
    "\n",
    "img = [\n",
    "    [1, 0, 1],\n",
    "    [1, 0, 2],\n",
    "    [1, 0, 3]\n",
    "]\n",
    "\n",
    "rotate_matrix(img)"
   ]
  },
  {
   "cell_type": "markdown",
   "metadata": {},
   "source": [
    "## 1.8: zero_matrix:\n",
    "\n",
    "Write an algorithm such that if an element in an M x N matrix is 0, its entire row and \n",
    "column are set to zero. \n",
    "\n",
    "### Solution: Store rows and columns to be zeroed in lists and set to zero if the current row or col is to be zeroed\n",
    "\n",
    "> **Time Complexity:**\n",
    "- $2*(N^2)$ ~ $O(N^2)$\n",
    "    - For each (row, col) tuple, we add both to our zeroed_lists if the value is 0 in the matrix\n",
    "    \n",
    "> **Space Complexity:** $O(1)$\n",
    "- We are overwriting values in the original matrix. This requires $O(1)$ space."
   ]
  },
  {
   "cell_type": "code",
   "execution_count": 136,
   "metadata": {},
   "outputs": [
    {
     "name": "stdout",
     "output_type": "stream",
     "text": [
      "Original Matrix:\n",
      "[1234]\n",
      "[4320]\n",
      "[6789]\n",
      "[0123]\n",
      "'Zeroed' Matrix:\n",
      "[0230]\n",
      "[0000]\n",
      "[0780]\n",
      "[0000]\n"
     ]
    }
   ],
   "source": [
    "def zero_matrix(matrix):\n",
    "    # Store rows and columns to be \"zeroed\" using 2 lists\n",
    "    zero_rows = []\n",
    "    zero_cols = []\n",
    "    \n",
    "    for i in range(len(matrix)):\n",
    "        for j in range(len(matrix[i])):\n",
    "            if matrix[i][j] == 0:\n",
    "                if i not in zero_rows: zero_rows.append(i)\n",
    "                if j not in zero_cols: zero_cols.append(j)\n",
    "    \n",
    "    print(\"Original Matrix:\")\n",
    "    print_matrix(matrix)\n",
    "\n",
    "    for i in range(len(matrix)):\n",
    "        for j in range(len(matrix[i])):\n",
    "            if i in zero_rows or j in zero_cols:\n",
    "                matrix[i][j] = 0\n",
    "        \n",
    "        \n",
    "    print(\"'Zeroed' Matrix:\")\n",
    "    print_matrix(matrix)\n",
    "#     print(\"Rows to be zeroed:\", zero_rows)\n",
    "#     print(\"Cols to be zeroed:\", zero_cols)\n",
    "\n",
    "matrix = [\n",
    "    [1, 2, 3, 4],\n",
    "    [4, 3, 2, 0],\n",
    "    [6, 7, 8, 9],\n",
    "    [0, 1, 2, 3]\n",
    "]\n",
    "\n",
    "zero_matrix(matrix)"
   ]
  },
  {
   "cell_type": "markdown",
   "metadata": {},
   "source": [
    "## 1.9: string_rotation:\n",
    "\n",
    "Assume you have a method 'isSubstring' which checks if one word is a substring of \n",
    "another. Given two strings, s1 and s2, write code to check if s2 is a rotation of \n",
    "s1 using only one call to \"isSubstring\". \n",
    "(e.g., \"waterbottle\" is a rotation of \"erbottlewat\").\n",
    "\n",
    "\n",
    "### Solution: \n",
    "\n",
    "> **Time Complexity:**\n",
    "- $O()$\n",
    "    - \n",
    "    \n",
    "> **Space Complexity:** $O()$\n",
    "- "
   ]
  },
  {
   "cell_type": "code",
   "execution_count": 137,
   "metadata": {},
   "outputs": [],
   "source": [
    "def string_rotation(string1, string2):\n",
    "    \n",
    "    pass"
   ]
  }
 ],
 "metadata": {
  "kernelspec": {
   "display_name": "Python 3",
   "language": "python",
   "name": "python3"
  },
  "language_info": {
   "codemirror_mode": {
    "name": "ipython",
    "version": 3
   },
   "file_extension": ".py",
   "mimetype": "text/x-python",
   "name": "python",
   "nbconvert_exporter": "python",
   "pygments_lexer": "ipython3",
   "version": "3.7.3"
  }
 },
 "nbformat": 4,
 "nbformat_minor": 2
}
