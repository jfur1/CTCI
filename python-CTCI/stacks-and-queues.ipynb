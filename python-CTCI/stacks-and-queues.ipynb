{
 "cells": [
  {
   "cell_type": "markdown",
   "metadata": {},
   "source": [
    "# Chapter 3: Stacks and Queues\n",
    "\n",
    "## Python Stack Implementation:\n",
    "A stack can be implemented using a list; however, append() and pop() take $O(N)$ time."
   ]
  },
  {
   "cell_type": "code",
   "execution_count": 2,
   "metadata": {},
   "outputs": [
    {
     "name": "stdout",
     "output_type": "stream",
     "text": [
      "Initial Stack:\n",
      "['a', 'b', 'c']\n",
      "\n",
      "Elements popped from the stack:\n",
      "c\n",
      "b\n",
      "a\n",
      "\n",
      "Stack after elements are popped:\n",
      "[]\n"
     ]
    }
   ],
   "source": [
    "# In python, a stack is simply implemented using a list.\n",
    "stack = []\n",
    "\n",
    "# append() function to push elements onto the stack:\n",
    "stack.append('a')\n",
    "stack.append('b')\n",
    "stack.append('c')\n",
    "\n",
    "print('Initial Stack:')\n",
    "print(stack)\n",
    "\n",
    "# pop() function to pop element from stack in LIFO order:\n",
    "print('\\nElements popped from the stack:')\n",
    "print(stack.pop())\n",
    "print(stack.pop())\n",
    "print(stack.pop())\n",
    "\n",
    "print('\\nStack after elements are popped:')\n",
    "print(stack)"
   ]
  },
  {
   "cell_type": "markdown",
   "metadata": {},
   "source": [
    "## Stack -- Using Deque()\n",
    "Using the deque class, we can implement a stack with append() and pop() operations that run in $O(1)$ time."
   ]
  },
  {
   "cell_type": "code",
   "execution_count": 4,
   "metadata": {},
   "outputs": [
    {
     "name": "stdout",
     "output_type": "stream",
     "text": [
      "Initial Stack:\n",
      "deque(['a', 'b', 'c'])\n",
      "\n",
      "Elements popped from the stack:\n",
      "c\n",
      "b\n",
      "a\n",
      "\n",
      "Stack after elements are popped:\n",
      "deque([])\n"
     ]
    }
   ],
   "source": [
    "from collections import deque\n",
    "\n",
    "stack = deque()\n",
    "\n",
    "# append() function to push elements onto the stack:\n",
    "stack.append('a')\n",
    "stack.append('b')\n",
    "stack.append('c')\n",
    "\n",
    "print('Initial Stack:')\n",
    "print(stack)\n",
    "\n",
    "# pop() function to pop element from stack in LIFO order\n",
    "print('\\nElements popped from the stack:')\n",
    "print(stack.pop())\n",
    "print(stack.pop())\n",
    "print(stack.pop())\n",
    "\n",
    "print('\\nStack after elements are popped:')\n",
    "print(stack)"
   ]
  },
  {
   "cell_type": "markdown",
   "metadata": {},
   "source": [
    "## 3.1: Three in One\n",
    "Describe how you can use an array to implement 3 stacks."
   ]
  },
  {
   "cell_type": "code",
   "execution_count": null,
   "metadata": {},
   "outputs": [],
   "source": []
  },
  {
   "cell_type": "markdown",
   "metadata": {},
   "source": [
    "## 3.2: Stack Min\n",
    "How would you design a stack which, in addition to push and pop, has a function min which returns the minimum element? Push, pop, and min should all run in $O(1)$ time."
   ]
  },
  {
   "cell_type": "code",
   "execution_count": null,
   "metadata": {},
   "outputs": [],
   "source": []
  },
  {
   "cell_type": "markdown",
   "metadata": {},
   "source": [
    "## 3.3: Stack of Plates\n",
    "Imagine a (literal) stack of plates. If the stack gets too high, it might topple. Therefore, in real life, we would likely start a new stack when the previous stack exceeds some threshold. Implement a data structure SetOfStacks that mimics this. SetOfStacks should be composed of several stacks and should create a new stack once the prvious one exceeds capacity. SetOfStacks.push() and SetOfStacks.pop() should behave identically toa single stack. (That is, pop() should return the same values as it would if there were just a single stack.)\n",
    "\n",
    "Follow Up: Implement a function popAt(int index) which performs a pop operation on a specific sub stack."
   ]
  },
  {
   "cell_type": "code",
   "execution_count": null,
   "metadata": {},
   "outputs": [],
   "source": []
  },
  {
   "cell_type": "markdown",
   "metadata": {},
   "source": [
    "## 3.4: Queue via Stacks:\n",
    "Implement a MyQueue class which implements a queue using 2 stacks."
   ]
  },
  {
   "cell_type": "code",
   "execution_count": null,
   "metadata": {},
   "outputs": [],
   "source": []
  },
  {
   "cell_type": "markdown",
   "metadata": {},
   "source": [
    "## 3.5: Sort Stack:\n",
    "Write a program to sort a stack such that the smallest items are on top. You can use an additional temporary stack, but you may not copy the elements into any other data structure (such as an array). The stack supports the following operations: push, pop, peep, and isEmpty."
   ]
  },
  {
   "cell_type": "code",
   "execution_count": null,
   "metadata": {},
   "outputs": [],
   "source": []
  },
  {
   "cell_type": "markdown",
   "metadata": {},
   "source": [
    "## 3.6: Animal Shelter: \n",
    "An animal shelter, which holds only dogs and cats, operates on a strictly \"first in, first out\" basis. People must select either the \"oldest\" (based on arrival time) of all the animals in the shelter, or they can select whether they prefer a dog or a cat (and will recieve the oldest animal of that type). They cannot select which specific animal they'd like. Create the data structures to maintain this system and implement operations such as enqueue, dequeueAny, dequeueDog, and dequeueCat. You may use the built-in LinkedList data structure."
   ]
  },
  {
   "cell_type": "code",
   "execution_count": null,
   "metadata": {},
   "outputs": [],
   "source": []
  }
 ],
 "metadata": {
  "kernelspec": {
   "display_name": "Python 3",
   "language": "python",
   "name": "python3"
  },
  "language_info": {
   "codemirror_mode": {
    "name": "ipython",
    "version": 3
   },
   "file_extension": ".py",
   "mimetype": "text/x-python",
   "name": "python",
   "nbconvert_exporter": "python",
   "pygments_lexer": "ipython3",
   "version": "3.7.3"
  }
 },
 "nbformat": 4,
 "nbformat_minor": 2
}
