{
 "cells": [
  {
   "cell_type": "markdown",
   "metadata": {},
   "source": [
    "# Chapter 0: Big O Notation\n",
    "\n",
    "<hr style=\"height:2px;border-width:0;color:gray;background-color:gray\"/>\n",
    "<img src=\"images/big-o-runtimes.jpeg\" alt=\"Drawing\" style=\"width: 650px;\"/>\n",
    "\n",
    "## $O$ (Big O): Upper Bound\n",
    "    We can describe an algorithms runtime in three ways. Best case time complexity is rarely used and the average and worst case runtimes are often the same\n",
    "### Best Case (Less Common)\n",
    "### Average Case\n",
    "### Worst Case"
   ]
  },
  {
   "cell_type": "code",
   "execution_count": null,
   "metadata": {},
   "outputs": [],
   "source": []
  }
 ],
 "metadata": {
  "kernelspec": {
   "display_name": "Python 3",
   "language": "python",
   "name": "python3"
  },
  "language_info": {
   "codemirror_mode": {
    "name": "ipython",
    "version": 3
   },
   "file_extension": ".py",
   "mimetype": "text/x-python",
   "name": "python",
   "nbconvert_exporter": "python",
   "pygments_lexer": "ipython3",
   "version": "3.7.3"
  }
 },
 "nbformat": 4,
 "nbformat_minor": 2
}
