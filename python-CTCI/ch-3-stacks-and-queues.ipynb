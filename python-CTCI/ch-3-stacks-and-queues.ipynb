{
 "cells": [
  {
   "cell_type": "markdown",
   "metadata": {},
   "source": [
    "# Chapter 3: Stacks and Queues\n",
    "\n",
    "## Python Stack Implementation:\n",
    "A stack can be implemented using a list; however, append() and pop() take $O(N)$ time."
   ]
  },
  {
   "cell_type": "code",
   "execution_count": 2,
   "metadata": {},
   "outputs": [
    {
     "name": "stdout",
     "output_type": "stream",
     "text": [
      "Initial Stack:\n",
      "['a', 'b', 'c']\n",
      "\n",
      "Elements popped from the stack:\n",
      "c\n",
      "b\n",
      "a\n",
      "\n",
      "Stack after elements are popped:\n",
      "[]\n"
     ]
    }
   ],
   "source": [
    "# In python, a stack is simply implemented using a list.\n",
    "stack = []\n",
    "\n",
    "# append() function to push elements onto the stack:\n",
    "stack.append('a')\n",
    "stack.append('b')\n",
    "stack.append('c')\n",
    "\n",
    "print('Initial Stack:')\n",
    "print(stack)\n",
    "\n",
    "# pop() function to pop element from stack in LIFO order:\n",
    "print('\\nElements popped from the stack:')\n",
    "print(stack.pop())\n",
    "print(stack.pop())\n",
    "print(stack.pop())\n",
    "\n",
    "print('\\nStack after elements are popped:')\n",
    "print(stack)"
   ]
  },
  {
   "cell_type": "markdown",
   "metadata": {},
   "source": [
    "## Stack -- Using Deque()\n",
    "Using the deque class, we can implement a stack with append() and pop() operations that run in $O(1)$ time."
   ]
  },
  {
   "cell_type": "code",
   "execution_count": 4,
   "metadata": {},
   "outputs": [
    {
     "name": "stdout",
     "output_type": "stream",
     "text": [
      "Initial Stack:\n",
      "deque(['a', 'b', 'c'])\n",
      "\n",
      "Elements popped from the stack:\n",
      "c\n",
      "b\n",
      "a\n",
      "\n",
      "Stack after elements are popped:\n",
      "deque([])\n"
     ]
    }
   ],
   "source": [
    "from collections import deque\n",
    "\n",
    "stack = deque()\n",
    "\n",
    "# append() function to push elements onto the stack:\n",
    "stack.append('a')\n",
    "stack.append('b')\n",
    "stack.append('c')\n",
    "\n",
    "print('Initial Stack:')\n",
    "print(stack)\n",
    "\n",
    "# pop() function to pop element from stack in LIFO order\n",
    "print('\\nElements popped from the stack:')\n",
    "print(stack.pop())\n",
    "print(stack.pop())\n",
    "print(stack.pop())\n",
    "\n",
    "print('\\nStack after elements are popped:')\n",
    "print(stack)"
   ]
  },
  {
   "cell_type": "markdown",
   "metadata": {},
   "source": [
    "## Queues:\n",
    "Similar to stacks, a queue can also be implemented using a list in python. However, lists are quite slow since inserting or deleting elements require shifting all other elements by one, which requires $O(N)$ time. \n",
    "\n",
    "### Using List:"
   ]
  },
  {
   "cell_type": "code",
   "execution_count": 5,
   "metadata": {},
   "outputs": [
    {
     "name": "stdout",
     "output_type": "stream",
     "text": [
      "Initial Queue:\n",
      "['a', 'b', 'c']\n",
      "\n",
      "Elements dequeued from the queue:\n",
      "a\n",
      "b\n",
      "c\n",
      "\n",
      "Queue after removing elements:\n",
      "[]\n"
     ]
    }
   ],
   "source": [
    "# Similar to stacks, we can also use a list to create a queue\n",
    "queue = []\n",
    "\n",
    "queue.append('a')\n",
    "queue.append('b')\n",
    "queue.append('c')\n",
    "\n",
    "print(\"Initial Queue:\")\n",
    "print(queue)\n",
    "\n",
    "print('\\nElements dequeued from the queue:')\n",
    "print(queue.pop(0))\n",
    "print(queue.pop(0))\n",
    "print(queue.pop(0))\n",
    "\n",
    "print('\\nQueue after removing elements:')\n",
    "print(queue)"
   ]
  },
  {
   "cell_type": "markdown",
   "metadata": {},
   "source": [
    "### Using deque:\n",
    "Similar to stacks, we can use the deque class to acheive inserting and deleting elements in $O(1)$ time, compare the $O(N)$ time it takes when implemented using a list."
   ]
  },
  {
   "cell_type": "code",
   "execution_count": 6,
   "metadata": {},
   "outputs": [
    {
     "name": "stdout",
     "output_type": "stream",
     "text": [
      "Initial Queue:\n",
      "[]\n",
      "\n",
      "Elements dequeued from the queue:\n",
      "a\n",
      "b\n",
      "c\n",
      "\n",
      "Queue after removing elements:\n",
      "[]\n"
     ]
    }
   ],
   "source": [
    "from collections import deque\n",
    "\n",
    "q = deque()\n",
    "\n",
    "q.append('a')\n",
    "q.append('b')\n",
    "q.append('c')\n",
    "\n",
    "print(\"Initial Queue:\")\n",
    "print(queue)\n",
    "\n",
    "print('\\nElements dequeued from the queue:')\n",
    "print(q.popleft())\n",
    "print(q.popleft())\n",
    "print(q.popleft())\n",
    "\n",
    "print('\\nQueue after removing elements:')\n",
    "print(queue)"
   ]
  },
  {
   "cell_type": "markdown",
   "metadata": {},
   "source": [
    "## 3.1: Three in One\n",
    "Describe how you can use an array to implement 3 stacks."
   ]
  },
  {
   "cell_type": "code",
   "execution_count": 20,
   "metadata": {},
   "outputs": [
    {
     "name": "stdout",
     "output_type": "stream",
     "text": [
      "Popped element from stack 2 is45\n",
      "Popped element from stack 1 is 39\n",
      "Popped element from stack 0 is 7\n",
      "\n",
      "Elements remaining in stack 0:\n",
      "9\n",
      "11\n"
     ]
    }
   ],
   "source": [
    "class KStacks:\n",
    "    def __init__(self, k, n):\n",
    "        self.k = k # Number of stacks\n",
    "        self.n = n # Total size of the array holding all 'k' stacks\n",
    "        \n",
    "        self.arr = [0] * self.n\n",
    "        \n",
    "        self.top = [-1] * self.k\n",
    "        \n",
    "        self.free = 0\n",
    "        \n",
    "        # Point to the next element in either \n",
    "        # 1. One of the 'k' stacks or,\n",
    "        # 2. The 'free' stack.\n",
    "        self.next = [i + 1 for i in range(self.n)]\n",
    "        self.next[self.n - 1] = -1\n",
    "        \n",
    "    def isEmpty(self, sn):\n",
    "        return self.top[sn] == -1\n",
    "    \n",
    "    def isFull(self):\n",
    "        return self.free == -1\n",
    "    \n",
    "    def push(self, item, sn):\n",
    "        if self.isFull():\n",
    "            print(\"Stack Overflow\")\n",
    "            return\n",
    "        \n",
    "        # Get first free position\n",
    "        insert_at = self.free\n",
    "        \n",
    "        # Adjust the free position\n",
    "        self.free = self.next[self.free]\n",
    "        \n",
    "        # Insert the item at the free position\n",
    "        self.arr[insert_at] = item\n",
    "        \n",
    "        # Adjust next to point to the old top of the stack\n",
    "        self.next[insert_at] = self.top[sn]\n",
    "        \n",
    "        # Set the new top of the stack\n",
    "        self.top[sn] = insert_at\n",
    "        \n",
    "    def pop(self, sn):\n",
    "        if self.isEmpty(sn):\n",
    "            return None\n",
    "\n",
    "        # Get the item at the top of the stack\n",
    "        top_of_stack = self.top[sn]\n",
    "       \n",
    "        # Set new top of the stack\n",
    "        self.top[sn] = self.next[self.top[sn]]\n",
    "        \n",
    "        # Push the old top_of_stack to the 'free' stack\n",
    "        self.next[top_of_stack] = self.free\n",
    "        self.free = top_of_stack\n",
    "        \n",
    "        return self.arr[top_of_stack]\n",
    "    \n",
    "    def printStack(self, sn):\n",
    "        top_idx = self.top[sn]\n",
    "        while top_idx != -1:\n",
    "            print(self.arr[top_idx])\n",
    "            top_idx = self.next[top_idx]\n",
    "\n",
    "# Create 3 stacks using an array of size 10\n",
    "kstacks = KStacks(3, 10)\n",
    "\n",
    "# Push some items onto stack number 2\n",
    "kstacks.push(15, 2)\n",
    "kstacks.push(45, 2)\n",
    "\n",
    "# Push some items onto stack number 1\n",
    "kstacks.push(17, 1)\n",
    "kstacks.push(49, 1)\n",
    "kstacks.push(39, 1)\n",
    "\n",
    "# Push some items onto stack number 0\n",
    "kstacks.push(11, 0)\n",
    "kstacks.push(9, 0)\n",
    "kstacks.push(7, 0)\n",
    "\n",
    "print(\"Popped element from stack 2 is\" + str(kstacks.pop(2)))\n",
    "print(\"Popped element from stack 1 is \" + str(kstacks.pop(1)))\n",
    "print(\"Popped element from stack 0 is \" + str(kstacks.pop(0)))\n",
    "\n",
    "print(\"\\nElements remaining in stack 0:\")\n",
    "kstacks.printStack(0)"
   ]
  },
  {
   "cell_type": "markdown",
   "metadata": {},
   "source": [
    "## 3.2: Stack Min\n",
    "How would you design a stack which, in addition to push and pop, has a function min which returns the minimum element? Push, pop, and min should all run in $O(1)$ time."
   ]
  },
  {
   "cell_type": "code",
   "execution_count": 11,
   "metadata": {},
   "outputs": [],
   "source": [
    "class Stack:\n",
    "    def __init__(self):\n",
    "        self = deque()\n",
    "        \n",
    "    def push(i):\n",
    "        self.append(i)\n",
    "        \n",
    "    def pop():\n",
    "        self.pop()\n",
    "    \n",
    "    def pop_min():\n",
    "        pass    \n",
    "    \n",
    "    def print_stack():\n",
    "        pass"
   ]
  },
  {
   "cell_type": "markdown",
   "metadata": {},
   "source": [
    "## 3.3: Stack of Plates\n",
    "Imagine a (literal) stack of plates. If the stack gets too high, it might topple. Therefore, in real life, we would likely start a new stack when the previous stack exceeds some threshold. Implement a data structure SetOfStacks that mimics this. SetOfStacks should be composed of several stacks and should create a new stack once the prvious one exceeds capacity. SetOfStacks.push() and SetOfStacks.pop() should behave identically toa single stack. (That is, pop() should return the same values as it would if there were just a single stack.)\n",
    "\n",
    "Follow Up: Implement a function popAt(int index) which performs a pop operation on a specific sub stack."
   ]
  },
  {
   "cell_type": "code",
   "execution_count": 12,
   "metadata": {},
   "outputs": [],
   "source": [
    "class SetOfStacks:\n",
    "    def __init__(self):\n",
    "        pass"
   ]
  },
  {
   "cell_type": "markdown",
   "metadata": {},
   "source": [
    "## 3.4: Queue via Stacks:\n",
    "Implement a MyQueue class which implements a queue using 2 stacks."
   ]
  },
  {
   "cell_type": "code",
   "execution_count": 13,
   "metadata": {},
   "outputs": [],
   "source": [
    "class MyQueue:\n",
    "    def __init__(self):\n",
    "        pass"
   ]
  },
  {
   "cell_type": "markdown",
   "metadata": {},
   "source": [
    "## 3.5: Sort Stack:\n",
    "Write a program to sort a stack such that the smallest items are on top. You can use an additional temporary stack, but you may not copy the elements into any other data structure (such as an array). The stack supports the following operations: push, pop, peep, and isEmpty."
   ]
  },
  {
   "cell_type": "code",
   "execution_count": 14,
   "metadata": {},
   "outputs": [],
   "source": [
    "def sort_stack(stack):\n",
    "    pass"
   ]
  },
  {
   "cell_type": "markdown",
   "metadata": {},
   "source": [
    "## 3.6: Animal Shelter: \n",
    "An animal shelter, which holds only dogs and cats, operates on a strictly \"first in, first out\" basis. People must select either the \"oldest\" (based on arrival time) of all the animals in the shelter, or they can select whether they prefer a dog or a cat (and will recieve the oldest animal of that type). They cannot select which specific animal they'd like. Create the data structures to maintain this system and implement operations such as enqueue, dequeueAny, dequeueDog, and dequeueCat. You may use the built-in LinkedList data structure."
   ]
  },
  {
   "cell_type": "code",
   "execution_count": 2,
   "metadata": {},
   "outputs": [],
   "source": [
    "class AnimalShelter:\n",
    "    def __init__(self):\n",
    "        pass"
   ]
  },
  {
   "cell_type": "code",
   "execution_count": null,
   "metadata": {},
   "outputs": [],
   "source": []
  }
 ],
 "metadata": {
  "kernelspec": {
   "display_name": "Python 3",
   "language": "python",
   "name": "python3"
  },
  "language_info": {
   "codemirror_mode": {
    "name": "ipython",
    "version": 3
   },
   "file_extension": ".py",
   "mimetype": "text/x-python",
   "name": "python",
   "nbconvert_exporter": "python",
   "pygments_lexer": "ipython3",
   "version": "3.7.3"
  }
 },
 "nbformat": 4,
 "nbformat_minor": 2
}
